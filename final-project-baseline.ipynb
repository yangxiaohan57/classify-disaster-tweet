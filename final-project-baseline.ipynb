{
 "cells": [
  {
   "cell_type": "markdown",
   "metadata": {},
   "source": [
    "## Final project\n",
    "\n",
    "text stuff to do: \n",
    "- clean encoding (ÛÏ) \n",
    "- count hashtags, @ signs, urls, punctuation, sentence to punctuation ratio\n",
    "- :pparrot: emojis???\n",
    "- general research to tokenize tweets & try out different tokenizing methods\n",
    "- remove punctuation \n",
    "- use SVD to condense, try PCA\n",
    "- remove stuff to make it look like final project\n",
    "- research to see how we can use location or keywords\n",
    "\n",
    "ask john:\n",
    "- best way to clean encoding\n",
    "- how to add features to model"
   ]
  },
  {
   "cell_type": "code",
   "execution_count": 1,
   "metadata": {},
   "outputs": [],
   "source": [
    "import pandas as pd\n",
    "import matplotlib.pyplot as plt\n",
    "from nltk.corpus import stopwords\n",
    "import glob"
   ]
  },
  {
   "cell_type": "code",
   "execution_count": 2,
   "metadata": {},
   "outputs": [],
   "source": [
    "df = pd.read_csv('/Users/nikhilbhargava/Documents/Duke/ids-703/final-project/final-project-green/Data/train.csv')"
   ]
  },
  {
   "cell_type": "code",
   "execution_count": 15,
   "metadata": {},
   "outputs": [
    {
     "data": {
      "text/html": [
       "<div>\n",
       "<style scoped>\n",
       "    .dataframe tbody tr th:only-of-type {\n",
       "        vertical-align: middle;\n",
       "    }\n",
       "\n",
       "    .dataframe tbody tr th {\n",
       "        vertical-align: top;\n",
       "    }\n",
       "\n",
       "    .dataframe thead th {\n",
       "        text-align: right;\n",
       "    }\n",
       "</style>\n",
       "<table border=\"1\" class=\"dataframe\">\n",
       "  <thead>\n",
       "    <tr style=\"text-align: right;\">\n",
       "      <th></th>\n",
       "      <th>id</th>\n",
       "      <th>keyword</th>\n",
       "      <th>location</th>\n",
       "      <th>text</th>\n",
       "      <th>target</th>\n",
       "    </tr>\n",
       "  </thead>\n",
       "  <tbody>\n",
       "    <tr>\n",
       "      <th>3187</th>\n",
       "      <td>4576</td>\n",
       "      <td>emergency%20plan</td>\n",
       "      <td>Im In Route</td>\n",
       "      <td>ÛÏ@based_georgie: yo forreal we need to have ...</td>\n",
       "      <td>1</td>\n",
       "    </tr>\n",
       "    <tr>\n",
       "      <th>6483</th>\n",
       "      <td>9270</td>\n",
       "      <td>sunk</td>\n",
       "      <td>In your mind</td>\n",
       "      <td>The feeling of lonelyness has sunk into me str...</td>\n",
       "      <td>0</td>\n",
       "    </tr>\n",
       "    <tr>\n",
       "      <th>6294</th>\n",
       "      <td>8993</td>\n",
       "      <td>stretcher</td>\n",
       "      <td>NaN</td>\n",
       "      <td>@Coach_Keith44 @HannoMottola @TRPreston01 @mlr...</td>\n",
       "      <td>0</td>\n",
       "    </tr>\n",
       "    <tr>\n",
       "      <th>3219</th>\n",
       "      <td>4619</td>\n",
       "      <td>emergency%20services</td>\n",
       "      <td>Los Angeles, CA</td>\n",
       "      <td>Want to work in #MissionHills CA? View our lat...</td>\n",
       "      <td>0</td>\n",
       "    </tr>\n",
       "    <tr>\n",
       "      <th>585</th>\n",
       "      <td>845</td>\n",
       "      <td>bioterror</td>\n",
       "      <td>NaN</td>\n",
       "      <td>House Energy &amp;amp;amp; Commerce subcommittee t...</td>\n",
       "      <td>1</td>\n",
       "    </tr>\n",
       "    <tr>\n",
       "      <th>7184</th>\n",
       "      <td>10294</td>\n",
       "      <td>weapon</td>\n",
       "      <td>New York 2099</td>\n",
       "      <td>@DwarfOnJetpack I guess I can say you and me m...</td>\n",
       "      <td>0</td>\n",
       "    </tr>\n",
       "    <tr>\n",
       "      <th>3542</th>\n",
       "      <td>5064</td>\n",
       "      <td>famine</td>\n",
       "      <td>Kyiv, Ukraine</td>\n",
       "      <td>#Russia 'food crematoria' provoke outrage in c...</td>\n",
       "      <td>1</td>\n",
       "    </tr>\n",
       "    <tr>\n",
       "      <th>3945</th>\n",
       "      <td>5609</td>\n",
       "      <td>flood</td>\n",
       "      <td>New York</td>\n",
       "      <td>12' 72W CREE LED Work Light Bar Alloy Spot Flo...</td>\n",
       "      <td>0</td>\n",
       "    </tr>\n",
       "    <tr>\n",
       "      <th>166</th>\n",
       "      <td>241</td>\n",
       "      <td>airplane%20accident</td>\n",
       "      <td>Fashion Heaven. IG: TMId_</td>\n",
       "      <td>My phone looks like it was in a car ship airpl...</td>\n",
       "      <td>0</td>\n",
       "    </tr>\n",
       "    <tr>\n",
       "      <th>1418</th>\n",
       "      <td>2046</td>\n",
       "      <td>casualties</td>\n",
       "      <td>Insula Barataria</td>\n",
       "      <td>ÛÏThe road to power is paved with hypocrisy a...</td>\n",
       "      <td>0</td>\n",
       "    </tr>\n",
       "  </tbody>\n",
       "</table>\n",
       "</div>"
      ],
      "text/plain": [
       "         id               keyword                   location  \\\n",
       "3187   4576      emergency%20plan               Im In Route    \n",
       "6483   9270                  sunk               In your mind   \n",
       "6294   8993             stretcher                        NaN   \n",
       "3219   4619  emergency%20services            Los Angeles, CA   \n",
       "585     845             bioterror                        NaN   \n",
       "7184  10294                weapon              New York 2099   \n",
       "3542   5064                famine              Kyiv, Ukraine   \n",
       "3945   5609                 flood                   New York   \n",
       "166     241   airplane%20accident  Fashion Heaven. IG: TMId_   \n",
       "1418   2046            casualties           Insula Barataria   \n",
       "\n",
       "                                                   text  target  \n",
       "3187  ÛÏ@based_georgie: yo forreal we need to have ...       1  \n",
       "6483  The feeling of lonelyness has sunk into me str...       0  \n",
       "6294  @Coach_Keith44 @HannoMottola @TRPreston01 @mlr...       0  \n",
       "3219  Want to work in #MissionHills CA? View our lat...       0  \n",
       "585   House Energy &amp;amp; Commerce subcommittee t...       1  \n",
       "7184  @DwarfOnJetpack I guess I can say you and me m...       0  \n",
       "3542  #Russia 'food crematoria' provoke outrage in c...       1  \n",
       "3945  12' 72W CREE LED Work Light Bar Alloy Spot Flo...       0  \n",
       "166   My phone looks like it was in a car ship airpl...       0  \n",
       "1418  ÛÏThe road to power is paved with hypocrisy a...       0  "
      ]
     },
     "execution_count": 15,
     "metadata": {},
     "output_type": "execute_result"
    }
   ],
   "source": [
    "df.sample(10)"
   ]
  },
  {
   "cell_type": "code",
   "execution_count": 5,
   "metadata": {},
   "outputs": [],
   "source": [
    "from sklearn.model_selection import train_test_split\n",
    "\n",
    "X = df[\"text\"]\n",
    "y = df[\"target\"]\n",
    "\n",
    "# split into training and test\n",
    "X_train, X_test, y_train, y_test = train_test_split(X, y, test_size = 0.3, random_state = 0)"
   ]
  },
  {
   "cell_type": "code",
   "execution_count": 6,
   "metadata": {},
   "outputs": [],
   "source": [
    "from sklearn.feature_extraction.text import TfidfVectorizer\n",
    "stops = set(stopwords.words('english'))\n",
    "stops = map(lambda x:x.lower(),stops)\n",
    "vectorizer = TfidfVectorizer(stop_words=stops)\n",
    "vectorizer.fit(X)\n",
    "\n",
    "# extract features\n",
    "x_train = vectorizer.transform(X_train)\n",
    "x_test = vectorizer.transform(X_test)"
   ]
  },
  {
   "cell_type": "code",
   "execution_count": 7,
   "metadata": {},
   "outputs": [
    {
     "name": "stdout",
     "output_type": "stream",
     "text": [
      "(5329, 21498) (2284, 21498)\n"
     ]
    }
   ],
   "source": [
    "print(x_train.shape, x_test.shape)"
   ]
  },
  {
   "cell_type": "code",
   "execution_count": 8,
   "metadata": {},
   "outputs": [],
   "source": [
    "from sklearn.linear_model import LogisticRegression\n",
    "\n",
    "review_classifier = LogisticRegression(random_state = 0).fit(x_train, y_train)"
   ]
  },
  {
   "cell_type": "code",
   "execution_count": 9,
   "metadata": {},
   "outputs": [
    {
     "name": "stdout",
     "output_type": "stream",
     "text": [
      "Precision: 0.85\n",
      "Recall: 0.65\n",
      "F1: 0.74\n",
      "Average Precision: 0.7\n"
     ]
    }
   ],
   "source": [
    "from sklearn.metrics import precision_score\n",
    "from sklearn.metrics import recall_score\n",
    "from sklearn.metrics import f1_score\n",
    "from sklearn.metrics import average_precision_score\n",
    "\n",
    "# precision, recall, f1, and average precision below\n",
    "y_pred = review_classifier.predict(x_test)\n",
    "print(\"Precision:\", round(precision_score(y_test, y_pred, average='binary'),2))\n",
    "print(\"Recall:\", round(recall_score(y_test, y_pred, average='binary'),2))\n",
    "print(\"F1:\", round(f1_score(y_test, y_pred, average='binary'),2))\n",
    "print(\"Average Precision:\", round(average_precision_score(y_test, y_pred),2))"
   ]
  },
  {
   "cell_type": "code",
   "execution_count": 10,
   "metadata": {},
   "outputs": [
    {
     "data": {
      "text/plain": [
       "<sklearn.metrics._plot.precision_recall_curve.PrecisionRecallDisplay at 0x7fe1118646d0>"
      ]
     },
     "execution_count": 10,
     "metadata": {},
     "output_type": "execute_result"
    },
    {
     "data": {
      "image/png": "[encoded data removed]",
      "text/plain": [
       "<Figure size 432x288 with 1 Axes>"
      ]
     },
     "metadata": {
      "needs_background": "light"
     },
     "output_type": "display_data"
    }
   ],
   "source": [
    "from sklearn.metrics import precision_recall_curve\n",
    "from sklearn.metrics import plot_precision_recall_curve\n",
    "\n",
    "# plot precision-recall curve\n",
    "y_pred_prob = review_classifier.predict_proba(x_test)\n",
    "precision_recall_curve_values = precision_recall_curve(y_test, y_pred_prob[:,1])\n",
    "plot_precision_recall_curve(estimator=review_classifier, X=x_test, y=y_test)"
   ]
  },
  {
   "cell_type": "code",
   "execution_count": 11,
   "metadata": {},
   "outputs": [
    {
     "data": {
      "image/png": "[encoded data removed]",
      "text/plain": [
       "<Figure size 432x288 with 1 Axes>"
      ]
     },
     "metadata": {
      "needs_background": "light"
     },
     "output_type": "display_data"
    }
   ],
   "source": [
    "from sklearn.metrics import roc_curve\n",
    "from sklearn.metrics import auc\n",
    "\n",
    "# plot ROC\n",
    "fpr, tpr, threshold = roc_curve(y_test, y_pred_prob[:,1])\n",
    "roc_auc = auc(fpr, tpr)\n",
    "\n",
    "plt.title('Receiver Operating Characteristic (ROC) Curve')\n",
    "plt.plot(fpr, tpr, 'b', label = 'AUC = %0.2f' % roc_auc)\n",
    "plt.legend(loc = 'lower right')\n",
    "plt.plot([0, 1], [0, 1],'r--')\n",
    "plt.xlim([0, 1])\n",
    "plt.ylim([0, 1])\n",
    "plt.ylabel('True Positive Rate')\n",
    "plt.xlabel('False Positive Rate')\n",
    "plt.show()"
   ]
  }
 ],
 "metadata": {
  "kernelspec": {
   "display_name": "Python 3",
   "language": "python",
   "name": "python3"
  },
  "language_info": {
   "codemirror_mode": {
    "name": "ipython",
    "version": 3
   },
   "file_extension": ".py",
   "mimetype": "text/x-python",
   "name": "python",
   "nbconvert_exporter": "python",
   "pygments_lexer": "ipython3",
   "version": "3.7.7"
  }
 },
 "nbformat": 4,
 "nbformat_minor": 4
}
