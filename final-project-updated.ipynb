{
 "cells": [
  {
   "cell_type": "markdown",
   "metadata": {},
   "source": [
    "## Final project\n",
    "\n",
    "text stuff to do: \n",
    "- clean encoding (ÛÏ) \n",
    "- count hashtags, @ signs, urls, punctuation, sentence to punctuation ratio\n",
    "- :pparrot: emojis???\n",
    "- general research to tokenize tweets & try out different tokenizing methods\n",
    "- remove punctuation \n",
    "- use SVD to condense, try PCA\n",
    "- remove stuff to make it look like final project\n",
    "- research to see how we can use location or keywords\n",
    "\n",
    "ask john:\n",
    "- best way to clean encoding\n",
    "- how to add features to model"
   ]
  },
  {
   "cell_type": "code",
   "execution_count": 27,
   "metadata": {},
   "outputs": [],
   "source": [
    "import pandas as pd\n",
    "import numpy as np\n",
    "import matplotlib.pyplot as plt\n",
    "import seaborn as sns\n",
    "from nltk.corpus import stopwords\n",
    "import glob"
   ]
  },
  {
   "cell_type": "code",
   "execution_count": 3,
   "metadata": {},
   "outputs": [],
   "source": [
    "df = pd.read_csv('/Users/롸/Desktop/train.csv')"
   ]
  },
  {
   "cell_type": "code",
   "execution_count": 4,
   "metadata": {},
   "outputs": [
    {
     "data": {
      "text/html": [
       "<div>\n",
       "<style scoped>\n",
       "    .dataframe tbody tr th:only-of-type {\n",
       "        vertical-align: middle;\n",
       "    }\n",
       "\n",
       "    .dataframe tbody tr th {\n",
       "        vertical-align: top;\n",
       "    }\n",
       "\n",
       "    .dataframe thead th {\n",
       "        text-align: right;\n",
       "    }\n",
       "</style>\n",
       "<table border=\"1\" class=\"dataframe\">\n",
       "  <thead>\n",
       "    <tr style=\"text-align: right;\">\n",
       "      <th></th>\n",
       "      <th>id</th>\n",
       "      <th>keyword</th>\n",
       "      <th>location</th>\n",
       "      <th>text</th>\n",
       "      <th>target</th>\n",
       "    </tr>\n",
       "  </thead>\n",
       "  <tbody>\n",
       "    <tr>\n",
       "      <th>1500</th>\n",
       "      <td>2163</td>\n",
       "      <td>catastrophic</td>\n",
       "      <td>NaN</td>\n",
       "      <td>catastrophic-fallen-angel: reveillertm: macabr...</td>\n",
       "      <td>0</td>\n",
       "    </tr>\n",
       "    <tr>\n",
       "      <th>841</th>\n",
       "      <td>1221</td>\n",
       "      <td>blizzard</td>\n",
       "      <td>NaN</td>\n",
       "      <td>I really wanna brownie batter blizzard ??</td>\n",
       "      <td>0</td>\n",
       "    </tr>\n",
       "    <tr>\n",
       "      <th>3278</th>\n",
       "      <td>4704</td>\n",
       "      <td>epicentre</td>\n",
       "      <td>Lagos</td>\n",
       "      <td>#Tanzania elephant population declined by 60% ...</td>\n",
       "      <td>0</td>\n",
       "    </tr>\n",
       "    <tr>\n",
       "      <th>7110</th>\n",
       "      <td>10187</td>\n",
       "      <td>violent%20storm</td>\n",
       "      <td>Costa Rica</td>\n",
       "      <td>RT '@NASASolarSystem: Jupiter's Red Spot is a ...</td>\n",
       "      <td>0</td>\n",
       "    </tr>\n",
       "    <tr>\n",
       "      <th>2933</th>\n",
       "      <td>4214</td>\n",
       "      <td>drowned</td>\n",
       "      <td>Bayonne, NJ</td>\n",
       "      <td>@God how come bugs haven't all drowned out of ...</td>\n",
       "      <td>0</td>\n",
       "    </tr>\n",
       "    <tr>\n",
       "      <th>439</th>\n",
       "      <td>637</td>\n",
       "      <td>arsonist</td>\n",
       "      <td>ss</td>\n",
       "      <td>@Casper_rmg @BestComedyVine whats cracking cuz</td>\n",
       "      <td>0</td>\n",
       "    </tr>\n",
       "    <tr>\n",
       "      <th>3808</th>\n",
       "      <td>5410</td>\n",
       "      <td>fire%20truck</td>\n",
       "      <td>Aracaju - Sergipe</td>\n",
       "      <td>#NJTurnpike å_ #NJTurnpike Reopens Hours After...</td>\n",
       "      <td>1</td>\n",
       "    </tr>\n",
       "    <tr>\n",
       "      <th>3529</th>\n",
       "      <td>5044</td>\n",
       "      <td>eyewitness</td>\n",
       "      <td>NaN</td>\n",
       "      <td>DK Eyewitness Travel Guide: Denmark: travel gu...</td>\n",
       "      <td>0</td>\n",
       "    </tr>\n",
       "    <tr>\n",
       "      <th>6245</th>\n",
       "      <td>8921</td>\n",
       "      <td>snowstorm</td>\n",
       "      <td>Brooklyn, NY</td>\n",
       "      <td>'Cooler than Freddie Jackson sippin' a milksha...</td>\n",
       "      <td>0</td>\n",
       "    </tr>\n",
       "    <tr>\n",
       "      <th>1947</th>\n",
       "      <td>2799</td>\n",
       "      <td>curfew</td>\n",
       "      <td>Miami</td>\n",
       "      <td>In the beginning of summer my mom made my curf...</td>\n",
       "      <td>0</td>\n",
       "    </tr>\n",
       "  </tbody>\n",
       "</table>\n",
       "</div>"
      ],
      "text/plain": [
       "         id          keyword           location  \\\n",
       "1500   2163     catastrophic                NaN   \n",
       "841    1221         blizzard                NaN   \n",
       "3278   4704        epicentre              Lagos   \n",
       "7110  10187  violent%20storm         Costa Rica   \n",
       "2933   4214          drowned        Bayonne, NJ   \n",
       "439     637         arsonist                 ss   \n",
       "3808   5410     fire%20truck  Aracaju - Sergipe   \n",
       "3529   5044       eyewitness                NaN   \n",
       "6245   8921        snowstorm       Brooklyn, NY   \n",
       "1947   2799           curfew              Miami   \n",
       "\n",
       "                                                   text  target  \n",
       "1500  catastrophic-fallen-angel: reveillertm: macabr...       0  \n",
       "841           I really wanna brownie batter blizzard ??       0  \n",
       "3278  #Tanzania elephant population declined by 60% ...       0  \n",
       "7110  RT '@NASASolarSystem: Jupiter's Red Spot is a ...       0  \n",
       "2933  @God how come bugs haven't all drowned out of ...       0  \n",
       "439      @Casper_rmg @BestComedyVine whats cracking cuz       0  \n",
       "3808  #NJTurnpike å_ #NJTurnpike Reopens Hours After...       1  \n",
       "3529  DK Eyewitness Travel Guide: Denmark: travel gu...       0  \n",
       "6245  'Cooler than Freddie Jackson sippin' a milksha...       0  \n",
       "1947  In the beginning of summer my mom made my curf...       0  "
      ]
     },
     "execution_count": 4,
     "metadata": {},
     "output_type": "execute_result"
    }
   ],
   "source": [
    "df.sample(10)"
   ]
  },
  {
   "cell_type": "markdown",
   "metadata": {},
   "source": [
    "### EDA"
   ]
  },
  {
   "cell_type": "code",
   "execution_count": 35,
   "metadata": {},
   "outputs": [
    {
     "data": {
      "image/png": "[encoded data removed]",
      "text/plain": [
       "<Figure size 432x288 with 1 Axes>"
      ]
     },
     "metadata": {
      "needs_background": "light"
     },
     "output_type": "display_data"
    }
   ],
   "source": [
    "len1=df[df['target']==1]['text'].str.split().map(lambda x: len(x))\n",
    "x = pd.Series(len1, name=\"Word count for disaster tweets\")\n",
    "ax1 = sns.distplot(x)"
   ]
  },
  {
   "cell_type": "code",
   "execution_count": 36,
   "metadata": {},
   "outputs": [
    {
     "data": {
      "image/png": "[encoded data removed]",
      "text/plain": [
       "<Figure size 432x288 with 1 Axes>"
      ]
     },
     "metadata": {
      "needs_background": "light"
     },
     "output_type": "display_data"
    }
   ],
   "source": [
    "len2=df[df['target']==0]['text'].str.split().map(lambda y: len(y))\n",
    "y = pd.Series(len2, name=\"Word count for non-disaster tweets\")\n",
    "ax2 = sns.distplot(y)"
   ]
  },
  {
   "cell_type": "markdown",
   "metadata": {},
   "source": [
    "### Customized tokenizer"
   ]
  },
  {
   "cell_type": "code",
   "execution_count": null,
   "metadata": {},
   "outputs": [],
   "source": []
  },
  {
   "cell_type": "markdown",
   "metadata": {},
   "source": [
    "### Tweet tokenizer, Spacey etc"
   ]
  },
  {
   "cell_type": "code",
   "execution_count": null,
   "metadata": {},
   "outputs": [],
   "source": []
  },
  {
   "cell_type": "markdown",
   "metadata": {},
   "source": [
    "### Dimension reduction using SVD\n",
    "- Input Data Matrix [m,n] = U [m,r] x Σ [r,r] x 𝑉-transpose [n,r]"
   ]
  },
  {
   "cell_type": "code",
   "execution_count": 20,
   "metadata": {},
   "outputs": [],
   "source": [
    "from sklearn.feature_extraction.text import TfidfVectorizer\n",
    "\n",
    "\n",
    "stops = set(stopwords.words('english'))\n",
    "stops = map(lambda x:x.lower(),stops)\n",
    "\n",
    "vectorizer = TfidfVectorizer(use_idf=True, stop_words=stops)\n",
    "\n",
    "#Learn the vocabulary dictionary and return term-document matrix. \n",
    "X = vectorizer.fit_transform(df['text'])"
   ]
  },
  {
   "cell_type": "code",
   "execution_count": 21,
   "metadata": {},
   "outputs": [
    {
     "data": {
      "text/plain": [
       "(7613, 21637)"
      ]
     },
     "execution_count": 21,
     "metadata": {},
     "output_type": "execute_result"
    }
   ],
   "source": [
    "# 7613 tweets, 21637 terms\n",
    "X.shape"
   ]
  },
  {
   "cell_type": "code",
   "execution_count": 12,
   "metadata": {},
   "outputs": [
    {
     "data": {
      "text/plain": [
       "TruncatedSVD(n_components=5, n_iter=7, random_state=42)"
      ]
     },
     "execution_count": 12,
     "metadata": {},
     "output_type": "execute_result"
    }
   ],
   "source": [
    "from sklearn.decomposition import TruncatedSVD\n",
    "\n",
    "svd = TruncatedSVD(n_components=5, n_iter=7, random_state=42)\n",
    "svd.fit(X)"
   ]
  },
  {
   "cell_type": "code",
   "execution_count": 13,
   "metadata": {},
   "outputs": [
    {
     "data": {
      "text/plain": [
       "array([[ 0.1314471 , -0.05754923, -0.06732878,  0.03122958, -0.03539631],\n",
       "       [ 0.02381332,  0.00861317, -0.00743651, -0.01376913,  0.00804908],\n",
       "       [ 0.11474536, -0.027717  ,  0.03047639, -0.02835933,  0.00689428],\n",
       "       ...,\n",
       "       [ 0.08036028,  0.07886652, -0.01406011,  0.01523802, -0.00489219],\n",
       "       [ 0.06277043, -0.00285174,  0.00656641, -0.0398387 , -0.01545908],\n",
       "       [ 0.1790993 ,  0.17606749, -0.09346007,  0.17202513, -0.08160155]])"
      ]
     },
     "execution_count": 13,
     "metadata": {},
     "output_type": "execute_result"
    }
   ],
   "source": [
    "# here, we compute U [m*r] x Σ [r*r]\n",
    "# 21637 columns are reduced to 5 \n",
    "svd.transform(X)"
   ]
  },
  {
   "cell_type": "code",
   "execution_count": 14,
   "metadata": {},
   "outputs": [],
   "source": [
    "U  = svd.fit_transform(X) / svd.singular_values_\n",
    "Sigma  = svd.singular_values_\n",
    "VT = svd.components_"
   ]
  },
  {
   "cell_type": "code",
   "execution_count": 23,
   "metadata": {},
   "outputs": [
    {
     "data": {
      "text/plain": [
       "array([10.59450634,  7.08210373,  5.60973298,  5.12251492,  4.97957037])"
      ]
     },
     "execution_count": 23,
     "metadata": {},
     "output_type": "execute_result"
    }
   ],
   "source": [
    "#strength of each column (concept), think of it as coefficient of each concept \n",
    "Sigma"
   ]
  },
  {
   "cell_type": "code",
   "execution_count": 25,
   "metadata": {},
   "outputs": [
    {
     "name": "stdout",
     "output_type": "stream",
     "text": [
      "0 the\n",
      "0 co\n",
      "0 http\n",
      "0 to\n",
      "0 in\n",
      "1 http\n",
      "1 co\n",
      "1 by\n",
      "1 û_\n",
      "1 via\n",
      "2 you\n",
      "2 co\n",
      "2 http\n",
      "2 your\n",
      "2 my\n",
      "3 you\n",
      "3 the\n",
      "3 families\n",
      "3 legionnaires\n",
      "3 more\n",
      "4 families\n",
      "4 from\n",
      "4 mh370\n",
      "4 to\n",
      "4 malaysia\n"
     ]
    }
   ],
   "source": [
    "# the coeff. of each term is listed in sigma \n",
    "# 0 -> 10.59, 1-> 7.08\n",
    "# the terms here are less meaningful (the, co, û_, http) bc we haven't done cleaning yet\n",
    "terms = vectorizer.get_feature_names()\n",
    "for k in range(0,5):\n",
    "    for i in (-VT[k]).argsort()[:5]:\n",
    "        print(k,terms[i])"
   ]
  },
  {
   "cell_type": "markdown",
   "metadata": {},
   "source": [
    "### Model"
   ]
  },
  {
   "cell_type": "code",
   "execution_count": 5,
   "metadata": {},
   "outputs": [],
   "source": [
    "from sklearn.model_selection import train_test_split\n",
    "\n",
    "X = df[\"text\"]\n",
    "y = df[\"target\"]\n",
    "\n",
    "# split into training and test\n",
    "X_train, X_test, y_train, y_test = train_test_split(X, y, test_size = 0.3, random_state = 0)"
   ]
  },
  {
   "cell_type": "code",
   "execution_count": 6,
   "metadata": {},
   "outputs": [],
   "source": [
    "from sklearn.feature_extraction.text import TfidfVectorizer\n",
    "stops = set(stopwords.words('english'))\n",
    "stops = map(lambda x:x.lower(),stops)\n",
    "vectorizer = TfidfVectorizer(stop_words=stops)\n",
    "vectorizer.fit(X)\n",
    "\n",
    "# extract features\n",
    "x_train = vectorizer.transform(X_train)\n",
    "x_test = vectorizer.transform(X_test)"
   ]
  },
  {
   "cell_type": "code",
   "execution_count": 7,
   "metadata": {},
   "outputs": [
    {
     "name": "stdout",
     "output_type": "stream",
     "text": [
      "(5329, 21498) (2284, 21498)\n"
     ]
    }
   ],
   "source": [
    "print(x_train.shape, x_test.shape)"
   ]
  },
  {
   "cell_type": "code",
   "execution_count": 8,
   "metadata": {},
   "outputs": [],
   "source": [
    "from sklearn.linear_model import LogisticRegression\n",
    "\n",
    "review_classifier = LogisticRegression(random_state = 0).fit(x_train, y_train)"
   ]
  },
  {
   "cell_type": "code",
   "execution_count": 9,
   "metadata": {},
   "outputs": [
    {
     "name": "stdout",
     "output_type": "stream",
     "text": [
      "Precision: 0.85\n",
      "Recall: 0.65\n",
      "F1: 0.74\n",
      "Average Precision: 0.7\n"
     ]
    }
   ],
   "source": [
    "from sklearn.metrics import precision_score\n",
    "from sklearn.metrics import recall_score\n",
    "from sklearn.metrics import f1_score\n",
    "from sklearn.metrics import average_precision_score\n",
    "\n",
    "# precision, recall, f1, and average precision below\n",
    "y_pred = review_classifier.predict(x_test)\n",
    "print(\"Precision:\", round(precision_score(y_test, y_pred, average='binary'),2))\n",
    "print(\"Recall:\", round(recall_score(y_test, y_pred, average='binary'),2))\n",
    "print(\"F1:\", round(f1_score(y_test, y_pred, average='binary'),2))\n",
    "print(\"Average Precision:\", round(average_precision_score(y_test, y_pred),2))"
   ]
  },
  {
   "cell_type": "code",
   "execution_count": 10,
   "metadata": {},
   "outputs": [
    {
     "data": {
      "text/plain": [
       "<sklearn.metrics._plot.precision_recall_curve.PrecisionRecallDisplay at 0x7fe1118646d0>"
      ]
     },
     "execution_count": 10,
     "metadata": {},
     "output_type": "execute_result"
    },
    {
     "data": {
      "image/png": "[encoded data removed]",
      "text/plain": [
       "<Figure size 432x288 with 1 Axes>"
      ]
     },
     "metadata": {
      "needs_background": "light"
     },
     "output_type": "display_data"
    }
   ],
   "source": [
    "from sklearn.metrics import precision_recall_curve\n",
    "from sklearn.metrics import plot_precision_recall_curve\n",
    "\n",
    "# plot precision-recall curve\n",
    "y_pred_prob = review_classifier.predict_proba(x_test)\n",
    "precision_recall_curve_values = precision_recall_curve(y_test, y_pred_prob[:,1])\n",
    "plot_precision_recall_curve(estimator=review_classifier, X=x_test, y=y_test)"
   ]
  },
  {
   "cell_type": "code",
   "execution_count": 11,
   "metadata": {},
   "outputs": [
    {
     "data": {
      "image/png": "[encoded data removed]",
      "text/plain": [
       "<Figure size 432x288 with 1 Axes>"
      ]
     },
     "metadata": {
      "needs_background": "light"
     },
     "output_type": "display_data"
    }
   ],
   "source": [
    "from sklearn.metrics import roc_curve\n",
    "from sklearn.metrics import auc\n",
    "\n",
    "# plot ROC\n",
    "fpr, tpr, threshold = roc_curve(y_test, y_pred_prob[:,1])\n",
    "roc_auc = auc(fpr, tpr)\n",
    "\n",
    "plt.title('Receiver Operating Characteristic (ROC) Curve')\n",
    "plt.plot(fpr, tpr, 'b', label = 'AUC = %0.2f' % roc_auc)\n",
    "plt.legend(loc = 'lower right')\n",
    "plt.plot([0, 1], [0, 1],'r--')\n",
    "plt.xlim([0, 1])\n",
    "plt.ylim([0, 1])\n",
    "plt.ylabel('True Positive Rate')\n",
    "plt.xlabel('False Positive Rate')\n",
    "plt.show()"
   ]
  }
 ],
 "metadata": {
  "kernelspec": {
   "display_name": "Python 3",
   "language": "python",
   "name": "python3"
  },
  "language_info": {
   "codemirror_mode": {
    "name": "ipython",
    "version": 3
   },
   "file_extension": ".py",
   "mimetype": "text/x-python",
   "name": "python",
   "nbconvert_exporter": "python",
   "pygments_lexer": "ipython3",
   "version": "3.7.1"
  }
 },
 "nbformat": 4,
 "nbformat_minor": 4
}
