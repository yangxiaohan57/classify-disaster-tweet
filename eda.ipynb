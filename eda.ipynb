{
 "cells": [
  {
   "cell_type": "markdown",
   "metadata": {},
   "source": [
    "## Data Exploration and EDA"
   ]
  },
  {
   "cell_type": "code",
   "execution_count": 76,
   "metadata": {},
   "outputs": [],
   "source": [
    "import pandas as pd\n",
    "import numpy as np\n",
    "from plotnine import *\n",
    "import re"
   ]
  },
  {
   "cell_type": "code",
   "execution_count": 44,
   "metadata": {},
   "outputs": [],
   "source": [
    "df = pd.read_csv('train.csv', encoding='utf-8')"
   ]
  },
  {
   "cell_type": "markdown",
   "metadata": {},
   "source": [
    "##### looking at the dataset as a whole"
   ]
  },
  {
   "cell_type": "code",
   "execution_count": 53,
   "metadata": {},
   "outputs": [
    {
     "data": {
      "text/html": [
       "<div>\n",
       "<style scoped>\n",
       "    .dataframe tbody tr th:only-of-type {\n",
       "        vertical-align: middle;\n",
       "    }\n",
       "\n",
       "    .dataframe tbody tr th {\n",
       "        vertical-align: top;\n",
       "    }\n",
       "\n",
       "    .dataframe thead th {\n",
       "        text-align: right;\n",
       "    }\n",
       "</style>\n",
       "<table border=\"1\" class=\"dataframe\">\n",
       "  <thead>\n",
       "    <tr style=\"text-align: right;\">\n",
       "      <th></th>\n",
       "      <th>id</th>\n",
       "      <th>keyword</th>\n",
       "      <th>location</th>\n",
       "      <th>text</th>\n",
       "      <th>target</th>\n",
       "    </tr>\n",
       "  </thead>\n",
       "  <tbody>\n",
       "    <tr>\n",
       "      <th>566</th>\n",
       "      <td>818</td>\n",
       "      <td>battle</td>\n",
       "      <td>Wisconsin</td>\n",
       "      <td>@SexyDragonMagic I've come to the realization ...</td>\n",
       "      <td>0</td>\n",
       "    </tr>\n",
       "    <tr>\n",
       "      <th>3750</th>\n",
       "      <td>5328</td>\n",
       "      <td>fire</td>\n",
       "      <td>Brooklyn</td>\n",
       "      <td>But put 'Flood of Fire' at the top of the list...</td>\n",
       "      <td>1</td>\n",
       "    </tr>\n",
       "    <tr>\n",
       "      <th>7154</th>\n",
       "      <td>10251</td>\n",
       "      <td>war%20zone</td>\n",
       "      <td>Incognito</td>\n",
       "      <td>Zone of the Enders MGS2 God of War. RT @D_Page...</td>\n",
       "      <td>0</td>\n",
       "    </tr>\n",
       "    <tr>\n",
       "      <th>7593</th>\n",
       "      <td>10848</td>\n",
       "      <td>NaN</td>\n",
       "      <td>NaN</td>\n",
       "      <td>I just heard a really loud bang and everyone i...</td>\n",
       "      <td>0</td>\n",
       "    </tr>\n",
       "    <tr>\n",
       "      <th>4032</th>\n",
       "      <td>5726</td>\n",
       "      <td>forest%20fire</td>\n",
       "      <td>Asheville, NC</td>\n",
       "      <td>Fire in Pisgah National Forest grows to 375 ac...</td>\n",
       "      <td>1</td>\n",
       "    </tr>\n",
       "    <tr>\n",
       "      <th>2208</th>\n",
       "      <td>3163</td>\n",
       "      <td>deluge</td>\n",
       "      <td>NaN</td>\n",
       "      <td>A deluge of eulogies  for #CecilTheLion on my ...</td>\n",
       "      <td>0</td>\n",
       "    </tr>\n",
       "    <tr>\n",
       "      <th>1187</th>\n",
       "      <td>1709</td>\n",
       "      <td>bridge%20collapse</td>\n",
       "      <td>NaN</td>\n",
       "      <td>Ashes 2015: Australia collapse at Trent Bridge...</td>\n",
       "      <td>1</td>\n",
       "    </tr>\n",
       "    <tr>\n",
       "      <th>3751</th>\n",
       "      <td>5330</td>\n",
       "      <td>fire</td>\n",
       "      <td>Canada</td>\n",
       "      <td>I'm On Fire.  http://t.co/WATsmxYTVa</td>\n",
       "      <td>0</td>\n",
       "    </tr>\n",
       "    <tr>\n",
       "      <th>6783</th>\n",
       "      <td>9717</td>\n",
       "      <td>tragedy</td>\n",
       "      <td>'Merica</td>\n",
       "      <td>'Sometimes God uses sorrowful tragedy to set t...</td>\n",
       "      <td>0</td>\n",
       "    </tr>\n",
       "    <tr>\n",
       "      <th>885</th>\n",
       "      <td>1280</td>\n",
       "      <td>bloody</td>\n",
       "      <td>NaN</td>\n",
       "      <td>infected bloody ear piercings are always fun??</td>\n",
       "      <td>0</td>\n",
       "    </tr>\n",
       "  </tbody>\n",
       "</table>\n",
       "</div>"
      ],
      "text/plain": [
       "         id            keyword       location  \\\n",
       "566     818             battle      Wisconsin   \n",
       "3750   5328               fire       Brooklyn   \n",
       "7154  10251         war%20zone      Incognito   \n",
       "7593  10848                NaN            NaN   \n",
       "4032   5726      forest%20fire  Asheville, NC   \n",
       "2208   3163             deluge            NaN   \n",
       "1187   1709  bridge%20collapse            NaN   \n",
       "3751   5330               fire         Canada   \n",
       "6783   9717            tragedy        'Merica   \n",
       "885    1280             bloody            NaN   \n",
       "\n",
       "                                                   text  target  \n",
       "566   @SexyDragonMagic I've come to the realization ...       0  \n",
       "3750  But put 'Flood of Fire' at the top of the list...       1  \n",
       "7154  Zone of the Enders MGS2 God of War. RT @D_Page...       0  \n",
       "7593  I just heard a really loud bang and everyone i...       0  \n",
       "4032  Fire in Pisgah National Forest grows to 375 ac...       1  \n",
       "2208  A deluge of eulogies  for #CecilTheLion on my ...       0  \n",
       "1187  Ashes 2015: Australia collapse at Trent Bridge...       1  \n",
       "3751               I'm On Fire.  http://t.co/WATsmxYTVa       0  \n",
       "6783  'Sometimes God uses sorrowful tragedy to set t...       0  \n",
       "885      infected bloody ear piercings are always fun??       0  "
      ]
     },
     "execution_count": 53,
     "metadata": {},
     "output_type": "execute_result"
    }
   ],
   "source": [
    "df.sample(10)"
   ]
  },
  {
   "cell_type": "code",
   "execution_count": 4,
   "metadata": {},
   "outputs": [
    {
     "data": {
      "text/plain": [
       "(7613, 5)"
      ]
     },
     "execution_count": 4,
     "metadata": {},
     "output_type": "execute_result"
    }
   ],
   "source": [
    "df.shape"
   ]
  },
  {
   "cell_type": "code",
   "execution_count": 5,
   "metadata": {},
   "outputs": [
    {
     "data": {
      "text/plain": [
       "id             0\n",
       "keyword       61\n",
       "location    2533\n",
       "text           0\n",
       "target         0\n",
       "dtype: int64"
      ]
     },
     "execution_count": 5,
     "metadata": {},
     "output_type": "execute_result"
    }
   ],
   "source": [
    "df.isnull().sum()"
   ]
  },
  {
   "cell_type": "markdown",
   "metadata": {},
   "source": [
    "##### keyword column"
   ]
  },
  {
   "cell_type": "code",
   "execution_count": 6,
   "metadata": {},
   "outputs": [
    {
     "data": {
      "text/plain": [
       "fatalities               45\n",
       "deluge                   42\n",
       "armageddon               42\n",
       "body%20bags              41\n",
       "damage                   41\n",
       "                         ..\n",
       "forest%20fire            19\n",
       "epicentre                12\n",
       "threat                   11\n",
       "inundation               10\n",
       "radiation%20emergency     9\n",
       "Name: keyword, Length: 221, dtype: int64"
      ]
     },
     "execution_count": 6,
     "metadata": {},
     "output_type": "execute_result"
    }
   ],
   "source": [
    "df['keyword'].value_counts()"
   ]
  },
  {
   "cell_type": "code",
   "execution_count": 9,
   "metadata": {},
   "outputs": [],
   "source": [
    "df['keyword'] = df[['keyword']].apply(lambda word : word.values[0].replace('%20', ' ') if not pd.isnull(word.values[0]) else word, axis = 1)"
   ]
  },
  {
   "cell_type": "code",
   "execution_count": 35,
   "metadata": {},
   "outputs": [
    {
     "data": {
      "text/html": [
       "<div>\n",
       "<style scoped>\n",
       "    .dataframe tbody tr th:only-of-type {\n",
       "        vertical-align: middle;\n",
       "    }\n",
       "\n",
       "    .dataframe tbody tr th {\n",
       "        vertical-align: top;\n",
       "    }\n",
       "\n",
       "    .dataframe thead th {\n",
       "        text-align: right;\n",
       "    }\n",
       "</style>\n",
       "<table border=\"1\" class=\"dataframe\">\n",
       "  <thead>\n",
       "    <tr style=\"text-align: right;\">\n",
       "      <th></th>\n",
       "      <th>index</th>\n",
       "      <th>keyword</th>\n",
       "    </tr>\n",
       "  </thead>\n",
       "  <tbody>\n",
       "    <tr>\n",
       "      <th>0</th>\n",
       "      <td>fatalities</td>\n",
       "      <td>45</td>\n",
       "    </tr>\n",
       "    <tr>\n",
       "      <th>1</th>\n",
       "      <td>deluge</td>\n",
       "      <td>42</td>\n",
       "    </tr>\n",
       "    <tr>\n",
       "      <th>2</th>\n",
       "      <td>armageddon</td>\n",
       "      <td>42</td>\n",
       "    </tr>\n",
       "    <tr>\n",
       "      <th>3</th>\n",
       "      <td>damage</td>\n",
       "      <td>41</td>\n",
       "    </tr>\n",
       "    <tr>\n",
       "      <th>4</th>\n",
       "      <td>sinking</td>\n",
       "      <td>41</td>\n",
       "    </tr>\n",
       "    <tr>\n",
       "      <th>...</th>\n",
       "      <td>...</td>\n",
       "      <td>...</td>\n",
       "    </tr>\n",
       "    <tr>\n",
       "      <th>216</th>\n",
       "      <td>forest fire</td>\n",
       "      <td>19</td>\n",
       "    </tr>\n",
       "    <tr>\n",
       "      <th>217</th>\n",
       "      <td>epicentre</td>\n",
       "      <td>12</td>\n",
       "    </tr>\n",
       "    <tr>\n",
       "      <th>218</th>\n",
       "      <td>threat</td>\n",
       "      <td>11</td>\n",
       "    </tr>\n",
       "    <tr>\n",
       "      <th>219</th>\n",
       "      <td>inundation</td>\n",
       "      <td>10</td>\n",
       "    </tr>\n",
       "    <tr>\n",
       "      <th>220</th>\n",
       "      <td>radiation emergency</td>\n",
       "      <td>9</td>\n",
       "    </tr>\n",
       "  </tbody>\n",
       "</table>\n",
       "<p>221 rows × 2 columns</p>\n",
       "</div>"
      ],
      "text/plain": [
       "                   index  keyword\n",
       "0             fatalities       45\n",
       "1                 deluge       42\n",
       "2             armageddon       42\n",
       "3                 damage       41\n",
       "4                sinking       41\n",
       "..                   ...      ...\n",
       "216          forest fire       19\n",
       "217            epicentre       12\n",
       "218               threat       11\n",
       "219           inundation       10\n",
       "220  radiation emergency        9\n",
       "\n",
       "[221 rows x 2 columns]"
      ]
     },
     "execution_count": 35,
     "metadata": {},
     "output_type": "execute_result"
    }
   ],
   "source": [
    "key = pd.DataFrame(df[\"keyword\"].value_counts())\n",
    "key = key.reset_index()\n",
    "key"
   ]
  },
  {
   "cell_type": "code",
   "execution_count": 39,
   "metadata": {},
   "outputs": [],
   "source": [
    "key['index'] = key['index'].astype('string')"
   ]
  },
  {
   "cell_type": "code",
   "execution_count": 42,
   "metadata": {},
   "outputs": [],
   "source": [
    "# (ggplot(key,aes(x='index')) +\n",
    "#  geom_histogram(bins=100) +\n",
    "#  theme_classic()\n",
    "# )"
   ]
  },
  {
   "cell_type": "markdown",
   "metadata": {},
   "source": [
    "##### text column"
   ]
  },
  {
   "cell_type": "code",
   "execution_count": 62,
   "metadata": {},
   "outputs": [],
   "source": [
    "hashtags = []"
   ]
  },
  {
   "cell_type": "code",
   "execution_count": 63,
   "metadata": {},
   "outputs": [
    {
     "data": {
      "text/plain": [
       "0       None\n",
       "1       None\n",
       "2       None\n",
       "3       None\n",
       "4       None\n",
       "        ... \n",
       "7608    None\n",
       "7609    None\n",
       "7610    None\n",
       "7611    None\n",
       "7612    None\n",
       "Length: 7613, dtype: object"
      ]
     },
     "execution_count": 63,
     "metadata": {},
     "output_type": "execute_result"
    }
   ],
   "source": [
    "df.apply(lambda row: hashtags.append(True) if '#' in row['text'] else hashtags.append(False), axis=1)"
   ]
  },
  {
   "cell_type": "code",
   "execution_count": 64,
   "metadata": {},
   "outputs": [
    {
     "data": {
      "text/plain": [
       "7613"
      ]
     },
     "execution_count": 64,
     "metadata": {},
     "output_type": "execute_result"
    }
   ],
   "source": [
    "len(hashtags)"
   ]
  },
  {
   "cell_type": "code",
   "execution_count": 69,
   "metadata": {},
   "outputs": [],
   "source": [
    "df['hashtags'] = hashtags"
   ]
  },
  {
   "cell_type": "code",
   "execution_count": 71,
   "metadata": {},
   "outputs": [],
   "source": [
    "atsymbol = []"
   ]
  },
  {
   "cell_type": "code",
   "execution_count": 72,
   "metadata": {},
   "outputs": [
    {
     "data": {
      "text/plain": [
       "0       None\n",
       "1       None\n",
       "2       None\n",
       "3       None\n",
       "4       None\n",
       "        ... \n",
       "7608    None\n",
       "7609    None\n",
       "7610    None\n",
       "7611    None\n",
       "7612    None\n",
       "Length: 7613, dtype: object"
      ]
     },
     "execution_count": 72,
     "metadata": {},
     "output_type": "execute_result"
    }
   ],
   "source": [
    "df.apply(lambda row: atsymbol.append(True) if '@' in row['text'] else atsymbol.append(False), axis=1)"
   ]
  },
  {
   "cell_type": "code",
   "execution_count": 73,
   "metadata": {},
   "outputs": [
    {
     "data": {
      "text/plain": [
       "7613"
      ]
     },
     "execution_count": 73,
     "metadata": {},
     "output_type": "execute_result"
    }
   ],
   "source": [
    "len(atsymbol)"
   ]
  },
  {
   "cell_type": "code",
   "execution_count": 74,
   "metadata": {},
   "outputs": [],
   "source": [
    "df['atsymbol'] = atsymbol"
   ]
  },
  {
   "cell_type": "code",
   "execution_count": 75,
   "metadata": {},
   "outputs": [],
   "source": [
    "url = []"
   ]
  },
  {
   "cell_type": "code",
   "execution_count": 77,
   "metadata": {},
   "outputs": [
    {
     "data": {
      "text/plain": [
       "0       None\n",
       "1       None\n",
       "2       None\n",
       "3       None\n",
       "4       None\n",
       "        ... \n",
       "7608    None\n",
       "7609    None\n",
       "7610    None\n",
       "7611    None\n",
       "7612    None\n",
       "Length: 7613, dtype: object"
      ]
     },
     "execution_count": 77,
     "metadata": {},
     "output_type": "execute_result"
    }
   ],
   "source": [
    "df.apply(lambda row: url.append(True) if re.match(\".*https?:\\/\\/.*\", row['text']) else url.append(False), axis=1)"
   ]
  },
  {
   "cell_type": "code",
   "execution_count": 78,
   "metadata": {},
   "outputs": [
    {
     "data": {
      "text/plain": [
       "7613"
      ]
     },
     "execution_count": 78,
     "metadata": {},
     "output_type": "execute_result"
    }
   ],
   "source": [
    "len(url)"
   ]
  },
  {
   "cell_type": "code",
   "execution_count": 79,
   "metadata": {},
   "outputs": [],
   "source": [
    "df['URL'] = url"
   ]
  },
  {
   "cell_type": "code",
   "execution_count": 81,
   "metadata": {},
   "outputs": [
    {
     "data": {
      "text/html": [
       "<div>\n",
       "<style scoped>\n",
       "    .dataframe tbody tr th:only-of-type {\n",
       "        vertical-align: middle;\n",
       "    }\n",
       "\n",
       "    .dataframe tbody tr th {\n",
       "        vertical-align: top;\n",
       "    }\n",
       "\n",
       "    .dataframe thead th {\n",
       "        text-align: right;\n",
       "    }\n",
       "</style>\n",
       "<table border=\"1\" class=\"dataframe\">\n",
       "  <thead>\n",
       "    <tr style=\"text-align: right;\">\n",
       "      <th></th>\n",
       "      <th>id</th>\n",
       "      <th>keyword</th>\n",
       "      <th>location</th>\n",
       "      <th>text</th>\n",
       "      <th>target</th>\n",
       "      <th>hashtags</th>\n",
       "      <th>atsymbol</th>\n",
       "      <th>URL</th>\n",
       "    </tr>\n",
       "  </thead>\n",
       "  <tbody>\n",
       "    <tr>\n",
       "      <th>386</th>\n",
       "      <td>559</td>\n",
       "      <td>arson</td>\n",
       "      <td>NaN</td>\n",
       "      <td>Mourning notices for stabbing arson victims st...</td>\n",
       "      <td>1</td>\n",
       "      <td>False</td>\n",
       "      <td>False</td>\n",
       "      <td>True</td>\n",
       "    </tr>\n",
       "    <tr>\n",
       "      <th>853</th>\n",
       "      <td>1235</td>\n",
       "      <td>blood</td>\n",
       "      <td>NaN</td>\n",
       "      <td>4.5 out of 5 stars by 290 reviewers for 'Drago...</td>\n",
       "      <td>0</td>\n",
       "      <td>True</td>\n",
       "      <td>False</td>\n",
       "      <td>True</td>\n",
       "    </tr>\n",
       "    <tr>\n",
       "      <th>6668</th>\n",
       "      <td>9556</td>\n",
       "      <td>threat</td>\n",
       "      <td>Kwajalein/Virginia/Dayton, OH</td>\n",
       "      <td>@dmassa5 Definite triple crown threat. Him and...</td>\n",
       "      <td>1</td>\n",
       "      <td>False</td>\n",
       "      <td>True</td>\n",
       "      <td>False</td>\n",
       "    </tr>\n",
       "    <tr>\n",
       "      <th>4236</th>\n",
       "      <td>6019</td>\n",
       "      <td>hazardous</td>\n",
       "      <td>Memphis, TN</td>\n",
       "      <td>MEG issues Hazardous Weather Outlook (HWO) htt...</td>\n",
       "      <td>1</td>\n",
       "      <td>False</td>\n",
       "      <td>False</td>\n",
       "      <td>True</td>\n",
       "    </tr>\n",
       "    <tr>\n",
       "      <th>5951</th>\n",
       "      <td>8502</td>\n",
       "      <td>screaming</td>\n",
       "      <td>NaN</td>\n",
       "      <td>*CUE THE JARIANA STANS SCREAMING</td>\n",
       "      <td>0</td>\n",
       "      <td>False</td>\n",
       "      <td>False</td>\n",
       "      <td>False</td>\n",
       "    </tr>\n",
       "    <tr>\n",
       "      <th>4940</th>\n",
       "      <td>7039</td>\n",
       "      <td>mayhem</td>\n",
       "      <td>Jersey Shore</td>\n",
       "      <td>BREAKING: Authorities respond to Ocean fire ht...</td>\n",
       "      <td>1</td>\n",
       "      <td>False</td>\n",
       "      <td>False</td>\n",
       "      <td>True</td>\n",
       "    </tr>\n",
       "    <tr>\n",
       "      <th>1266</th>\n",
       "      <td>1824</td>\n",
       "      <td>burned</td>\n",
       "      <td>NaN</td>\n",
       "      <td>What progress we are making.  In the Middle Ag...</td>\n",
       "      <td>0</td>\n",
       "      <td>False</td>\n",
       "      <td>False</td>\n",
       "      <td>False</td>\n",
       "    </tr>\n",
       "    <tr>\n",
       "      <th>6623</th>\n",
       "      <td>9486</td>\n",
       "      <td>terrorism</td>\n",
       "      <td>NaN</td>\n",
       "      <td>Truth...\\nhttps://t.co/k44tL3rfMy\\n#News\\n#BBC...</td>\n",
       "      <td>0</td>\n",
       "      <td>True</td>\n",
       "      <td>False</td>\n",
       "      <td>False</td>\n",
       "    </tr>\n",
       "    <tr>\n",
       "      <th>6581</th>\n",
       "      <td>9420</td>\n",
       "      <td>survivors</td>\n",
       "      <td>Lake Monticello, VA</td>\n",
       "      <td>As Anniversary Nears Atomic Bomb Survivors Spe...</td>\n",
       "      <td>1</td>\n",
       "      <td>False</td>\n",
       "      <td>False</td>\n",
       "      <td>True</td>\n",
       "    </tr>\n",
       "    <tr>\n",
       "      <th>2399</th>\n",
       "      <td>3451</td>\n",
       "      <td>derail</td>\n",
       "      <td>Washington, DC</td>\n",
       "      <td>Here's what may have caused a Metro train to d...</td>\n",
       "      <td>1</td>\n",
       "      <td>False</td>\n",
       "      <td>False</td>\n",
       "      <td>True</td>\n",
       "    </tr>\n",
       "    <tr>\n",
       "      <th>1222</th>\n",
       "      <td>1761</td>\n",
       "      <td>buildings%20burning</td>\n",
       "      <td>New Orleans ,Louisiana</td>\n",
       "      <td>Burning buildings? Media outrage? http://t.co/...</td>\n",
       "      <td>1</td>\n",
       "      <td>False</td>\n",
       "      <td>False</td>\n",
       "      <td>True</td>\n",
       "    </tr>\n",
       "    <tr>\n",
       "      <th>5150</th>\n",
       "      <td>7344</td>\n",
       "      <td>nuclear%20reactor</td>\n",
       "      <td>Somecity, Somerset, MD</td>\n",
       "      <td>A 17 year Boy Scout created a mini nuclear rea...</td>\n",
       "      <td>0</td>\n",
       "      <td>False</td>\n",
       "      <td>False</td>\n",
       "      <td>False</td>\n",
       "    </tr>\n",
       "    <tr>\n",
       "      <th>4176</th>\n",
       "      <td>5932</td>\n",
       "      <td>harm</td>\n",
       "      <td>NaN</td>\n",
       "      <td>@RJG0789 idk....I feel like his movies have do...</td>\n",
       "      <td>0</td>\n",
       "      <td>False</td>\n",
       "      <td>True</td>\n",
       "      <td>False</td>\n",
       "    </tr>\n",
       "    <tr>\n",
       "      <th>2344</th>\n",
       "      <td>3372</td>\n",
       "      <td>demolition</td>\n",
       "      <td>??????</td>\n",
       "      <td>http://t.co/D3cTNI8Qit #Demolition company: de...</td>\n",
       "      <td>0</td>\n",
       "      <td>True</td>\n",
       "      <td>False</td>\n",
       "      <td>True</td>\n",
       "    </tr>\n",
       "    <tr>\n",
       "      <th>1722</th>\n",
       "      <td>2485</td>\n",
       "      <td>collided</td>\n",
       "      <td>bk.</td>\n",
       "      <td>She looked back &amp;amp; her daughter &amp;amp; said ...</td>\n",
       "      <td>0</td>\n",
       "      <td>False</td>\n",
       "      <td>False</td>\n",
       "      <td>False</td>\n",
       "    </tr>\n",
       "    <tr>\n",
       "      <th>5503</th>\n",
       "      <td>7852</td>\n",
       "      <td>quarantined</td>\n",
       "      <td>San Francisco</td>\n",
       "      <td>Officials: Alabama home quarantined over possi...</td>\n",
       "      <td>1</td>\n",
       "      <td>False</td>\n",
       "      <td>False</td>\n",
       "      <td>True</td>\n",
       "    </tr>\n",
       "    <tr>\n",
       "      <th>81</th>\n",
       "      <td>118</td>\n",
       "      <td>accident</td>\n",
       "      <td>Your Sister's Bedroom</td>\n",
       "      <td>I was in a horrible car accident this past Sun...</td>\n",
       "      <td>1</td>\n",
       "      <td>False</td>\n",
       "      <td>False</td>\n",
       "      <td>False</td>\n",
       "    </tr>\n",
       "    <tr>\n",
       "      <th>4092</th>\n",
       "      <td>5817</td>\n",
       "      <td>hail</td>\n",
       "      <td>Between Dire and Radiant</td>\n",
       "      <td>Hail! [pic] ÛÓ https://t.co/B7omJ7U3EI</td>\n",
       "      <td>0</td>\n",
       "      <td>False</td>\n",
       "      <td>False</td>\n",
       "      <td>True</td>\n",
       "    </tr>\n",
       "    <tr>\n",
       "      <th>6525</th>\n",
       "      <td>9333</td>\n",
       "      <td>survive</td>\n",
       "      <td>NaN</td>\n",
       "      <td>@adriennetomah how did people survive like that?!</td>\n",
       "      <td>0</td>\n",
       "      <td>False</td>\n",
       "      <td>True</td>\n",
       "      <td>False</td>\n",
       "    </tr>\n",
       "    <tr>\n",
       "      <th>4259</th>\n",
       "      <td>6051</td>\n",
       "      <td>heat%20wave</td>\n",
       "      <td>Arnhem, the Netherlands</td>\n",
       "      <td>Arnhem Weather - &amp;lt;p&amp;gt;An unrelenting and d...</td>\n",
       "      <td>1</td>\n",
       "      <td>False</td>\n",
       "      <td>False</td>\n",
       "      <td>True</td>\n",
       "    </tr>\n",
       "  </tbody>\n",
       "</table>\n",
       "</div>"
      ],
      "text/plain": [
       "        id              keyword                       location  \\\n",
       "386    559                arson                            NaN   \n",
       "853   1235                blood                            NaN   \n",
       "6668  9556               threat  Kwajalein/Virginia/Dayton, OH   \n",
       "4236  6019            hazardous                    Memphis, TN   \n",
       "5951  8502            screaming                            NaN   \n",
       "4940  7039               mayhem                   Jersey Shore   \n",
       "1266  1824               burned                            NaN   \n",
       "6623  9486            terrorism                            NaN   \n",
       "6581  9420            survivors            Lake Monticello, VA   \n",
       "2399  3451               derail                 Washington, DC   \n",
       "1222  1761  buildings%20burning         New Orleans ,Louisiana   \n",
       "5150  7344    nuclear%20reactor         Somecity, Somerset, MD   \n",
       "4176  5932                 harm                            NaN   \n",
       "2344  3372           demolition                         ??????   \n",
       "1722  2485             collided                           bk.    \n",
       "5503  7852          quarantined                  San Francisco   \n",
       "81     118             accident          Your Sister's Bedroom   \n",
       "4092  5817                 hail       Between Dire and Radiant   \n",
       "6525  9333              survive                            NaN   \n",
       "4259  6051          heat%20wave        Arnhem, the Netherlands   \n",
       "\n",
       "                                                   text  target  hashtags  \\\n",
       "386   Mourning notices for stabbing arson victims st...       1     False   \n",
       "853   4.5 out of 5 stars by 290 reviewers for 'Drago...       0      True   \n",
       "6668  @dmassa5 Definite triple crown threat. Him and...       1     False   \n",
       "4236  MEG issues Hazardous Weather Outlook (HWO) htt...       1     False   \n",
       "5951                   *CUE THE JARIANA STANS SCREAMING       0     False   \n",
       "4940  BREAKING: Authorities respond to Ocean fire ht...       1     False   \n",
       "1266  What progress we are making.  In the Middle Ag...       0     False   \n",
       "6623  Truth...\\nhttps://t.co/k44tL3rfMy\\n#News\\n#BBC...       0      True   \n",
       "6581  As Anniversary Nears Atomic Bomb Survivors Spe...       1     False   \n",
       "2399  Here's what may have caused a Metro train to d...       1     False   \n",
       "1222  Burning buildings? Media outrage? http://t.co/...       1     False   \n",
       "5150  A 17 year Boy Scout created a mini nuclear rea...       0     False   \n",
       "4176  @RJG0789 idk....I feel like his movies have do...       0     False   \n",
       "2344  http://t.co/D3cTNI8Qit #Demolition company: de...       0      True   \n",
       "1722  She looked back &amp; her daughter &amp; said ...       0     False   \n",
       "5503  Officials: Alabama home quarantined over possi...       1     False   \n",
       "81    I was in a horrible car accident this past Sun...       1     False   \n",
       "4092            Hail! [pic] ÛÓ https://t.co/B7omJ7U3EI       0     False   \n",
       "6525  @adriennetomah how did people survive like that?!       0     False   \n",
       "4259  Arnhem Weather - &lt;p&gt;An unrelenting and d...       1     False   \n",
       "\n",
       "      atsymbol    URL  \n",
       "386      False   True  \n",
       "853      False   True  \n",
       "6668      True  False  \n",
       "4236     False   True  \n",
       "5951     False  False  \n",
       "4940     False   True  \n",
       "1266     False  False  \n",
       "6623     False  False  \n",
       "6581     False   True  \n",
       "2399     False   True  \n",
       "1222     False   True  \n",
       "5150     False  False  \n",
       "4176      True  False  \n",
       "2344     False   True  \n",
       "1722     False  False  \n",
       "5503     False   True  \n",
       "81       False  False  \n",
       "4092     False   True  \n",
       "6525      True  False  \n",
       "4259     False   True  "
      ]
     },
     "execution_count": 81,
     "metadata": {},
     "output_type": "execute_result"
    }
   ],
   "source": [
    "df.sample(20)"
   ]
  },
  {
   "cell_type": "code",
   "execution_count": null,
   "metadata": {},
   "outputs": [],
   "source": []
  }
 ],
 "metadata": {
  "kernelspec": {
   "display_name": "Python 3",
   "language": "python",
   "name": "python3"
  },
  "language_info": {
   "codemirror_mode": {
    "name": "ipython",
    "version": 3
   },
   "file_extension": ".py",
   "mimetype": "text/x-python",
   "name": "python",
   "nbconvert_exporter": "python",
   "pygments_lexer": "ipython3",
   "version": "3.7.6"
  }
 },
 "nbformat": 4,
 "nbformat_minor": 4
}
