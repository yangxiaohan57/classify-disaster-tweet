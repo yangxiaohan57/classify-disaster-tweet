{
 "cells": [
  {
   "cell_type": "markdown",
   "metadata": {},
   "source": [
    "## Assignment 2: Apply TF-IDF to the Inaugural Corpus \n",
    "Our second assignment will have us write code to \n",
    "1. Define or augment a set of stopwords for this problem\n",
    "2. Construct a document-by-term matrix (documents will be rows, terms will be columns), along with a vocabulary while controlling for stopwords\n",
    "3. Write functions to comput TF-IDF and apply those to the document-by-term matrix\n",
    "4. Find the closest historic inaugural address to the 2017 address by President Trump\n",
    "5. Learn to use the PCA transformation and plot the inaugural address along the first two principal components\n",
    "\n",
    "This assignment is to be done individually. Your code should be your own (with the exception of question 5, for which you're free to get some help from the web).\n",
    "\n",
    "**Due Date: 2020-09-02 5 pm ET**\n",
    "\n",
    "Please submit your completed assignment through GradeScope. You should submit a PDF of your notebook with all output."
   ]
  },
  {
   "cell_type": "code",
   "execution_count": 1,
   "metadata": {},
   "outputs": [
    {
     "name": "stderr",
     "output_type": "stream",
     "text": [
      "[nltk_data] Downloading package inaugural to\n",
      "[nltk_data]     /Users/nikhilbhargava/nltk_data...\n",
      "[nltk_data]   Package inaugural is already up-to-date!\n",
      "[nltk_data] Downloading package stopwords to\n",
      "[nltk_data]     /Users/nikhilbhargava/nltk_data...\n",
      "[nltk_data]   Package stopwords is already up-to-date!\n"
     ]
    },
    {
     "data": {
      "text/plain": [
       "True"
      ]
     },
     "execution_count": 1,
     "metadata": {},
     "output_type": "execute_result"
    }
   ],
   "source": [
    "import re\n",
    "import math\n",
    "import pandas as pd\n",
    "import numpy as np\n",
    "\n",
    "import nltk\n",
    "from nltk.corpus import stopwords\n",
    "from nltk.corpus import inaugural\n",
    "from nltk.stem import PorterStemmer\n",
    "nltk.download('inaugural')\n",
    "nltk.download('stopwords')\n",
    "\n",
    "# Feel free to add your own libs as needed"
   ]
  },
  {
   "cell_type": "code",
   "execution_count": 2,
   "metadata": {},
   "outputs": [],
   "source": [
    "tokenizer = nltk.data.load('tokenizers/punkt/english.pickle')\n",
    "\n",
    "porter    = nltk.PorterStemmer()\n",
    "lancaster = nltk.LancasterStemmer()\n",
    "wnl       = nltk.WordNetLemmatizer()"
   ]
  },
  {
   "cell_type": "code",
   "execution_count": 3,
   "metadata": {},
   "outputs": [
    {
     "data": {
      "text/plain": [
       "['1789-Washington.txt',\n",
       " '1793-Washington.txt',\n",
       " '1797-Adams.txt',\n",
       " '1801-Jefferson.txt']"
      ]
     },
     "execution_count": 3,
     "metadata": {},
     "output_type": "execute_result"
    }
   ],
   "source": [
    "inaugural.fileids()[:4]"
   ]
  },
  {
   "cell_type": "code",
   "execution_count": 4,
   "metadata": {},
   "outputs": [
    {
     "data": {
      "text/plain": [
       "['Fellow', '-', 'Citizens', 'of', 'the', 'Senate', ...]"
      ]
     },
     "execution_count": 4,
     "metadata": {},
     "output_type": "execute_result"
    }
   ],
   "source": [
    "inaugural.words(inaugural.fileids()[0])"
   ]
  },
  {
   "cell_type": "code",
   "execution_count": 5,
   "metadata": {},
   "outputs": [],
   "source": [
    "stop_words = set(stopwords.words('english'))"
   ]
  },
  {
   "cell_type": "markdown",
   "metadata": {},
   "source": [
    "### 1. Stopwords\n",
    "\n",
    "**Update stopwords once you've had a chance to explore the text**\n",
    "\n",
    "Remove all punctuation and strange unicode characters, and anything else you think might be extraneous"
   ]
  },
  {
   "cell_type": "code",
   "execution_count": 6,
   "metadata": {},
   "outputs": [],
   "source": [
    "stops = []\n",
    "for speech in inaugural.fileids():\n",
    "    for word in inaugural.words(speech):\n",
    "        word = word.lower()\n",
    "        if word.isalpha() == False:\n",
    "            stops.append(word)\n",
    "        else:\n",
    "            pass\n",
    "        \n",
    "stops = list(set(stops))"
   ]
  },
  {
   "cell_type": "code",
   "execution_count": 7,
   "metadata": {},
   "outputs": [],
   "source": [
    "# here is where you should update the stop words\n",
    "stop_words.update(stops)"
   ]
  },
  {
   "cell_type": "markdown",
   "metadata": {},
   "source": [
    "---\n",
    "### 2. Read each inaugural address into an Pandas DataFrame"
   ]
  },
  {
   "cell_type": "markdown",
   "metadata": {},
   "source": [
    "**2.1 Create a vocabulary as a set of all unique stemmed terms in the corpus**"
   ]
  },
  {
   "cell_type": "code",
   "execution_count": 8,
   "metadata": {},
   "outputs": [],
   "source": [
    "# your code for creating the vocab goes here\n",
    "ps = PorterStemmer()\n",
    "def create_vocab(vocab = set()):\n",
    "    for speech in inaugural.fileids():\n",
    "        for word in inaugural.words(speech):\n",
    "            word = word.lower()\n",
    "            if word in stop_words:\n",
    "                pass\n",
    "            else:\n",
    "                vocab.add(ps.stem(word))\n",
    "    return vocab\n",
    "\n",
    "vocab = create_vocab()"
   ]
  },
  {
   "cell_type": "markdown",
   "metadata": {},
   "source": [
    "**2.2 Use your vocabulary now to read each inaugural address into a dataframe**\n",
    "\n",
    "Each row of the dataframe should represent a document (one of the addresses). It may be handy at this time to also track the size (length) of each document, since you'll need this later when computing TF.\n",
    "\n",
    "You should ignore the README file. Hint: use `inaugural.fileids()`."
   ]
  },
  {
   "cell_type": "code",
   "execution_count": 9,
   "metadata": {},
   "outputs": [
    {
     "name": "stdout",
     "output_type": "stream",
     "text": [
      "      a     b     c     d\n",
      "0   2.0   3.0   4.0   NaN\n",
      "1  20.0  30.0  40.0  50.0\n"
     ]
    }
   ],
   "source": [
    "# Feel free to use your own approach but you can iteratively update a dataframe using dictionaries.\n",
    "# Here's an example\n",
    "df =pd.DataFrame()\n",
    "\n",
    "dict1 = {'a':2, 'b':3, 'c':4}\n",
    "dict2 = {'b':30, 'a':20, 'd':50, 'c':40}\n",
    "\n",
    "df = df.append(dict1, ignore_index=True)\n",
    "df = df.append(dict2, ignore_index=True)\n",
    "\n",
    "print(df)"
   ]
  },
  {
   "cell_type": "code",
   "execution_count": 10,
   "metadata": {},
   "outputs": [],
   "source": [
    "# your code for creating the dataframe goes here.\n",
    "# the resulting dataframe should be called \"df\"\n",
    "#\n",
    "# Each row of the dataframe should represent a document (inaugural address)\n",
    "# Each column of the dataframe should be a term from the vocab\n",
    "df = pd.DataFrame(columns = vocab)\n",
    "sizearr = []\n",
    "for speech in inaugural.fileids():\n",
    "    speech_vocab = dict.fromkeys(vocab, 0)\n",
    "    sizearr_count = 0\n",
    "    for word in inaugural.words(speech):\n",
    "        w = ps.stem(word.lower())\n",
    "        if w in speech_vocab.keys():\n",
    "            speech_vocab[w] += 1\n",
    "            sizearr_count += 1\n",
    "        else:\n",
    "            pass\n",
    "    sizearr.append(sizearr_count)\n",
    "    df = df.append(speech_vocab, ignore_index=True)"
   ]
  },
  {
   "cell_type": "code",
   "execution_count": 11,
   "metadata": {},
   "outputs": [
    {
     "data": {
      "text/plain": [
       "(58, 5333)"
      ]
     },
     "execution_count": 11,
     "metadata": {},
     "output_type": "execute_result"
    }
   ],
   "source": [
    "df.shape"
   ]
  },
  {
   "cell_type": "code",
   "execution_count": 12,
   "metadata": {},
   "outputs": [
    {
     "data": {
      "text/plain": [
       "58"
      ]
     },
     "execution_count": 12,
     "metadata": {},
     "output_type": "execute_result"
    }
   ],
   "source": [
    "len(inaugural.fileids())"
   ]
  },
  {
   "cell_type": "markdown",
   "metadata": {},
   "source": [
    "---\n",
    "### 3. Compute TF-IDF for the document-term matrix ###"
   ]
  },
  {
   "cell_type": "markdown",
   "metadata": {},
   "source": [
    "**3.1. Write a function to compute term frequency (TF) for each document**\n",
    "\n",
    "Please write your own code here, and resist the urge to rely on google for your answer."
   ]
  },
  {
   "cell_type": "code",
   "execution_count": 13,
   "metadata": {},
   "outputs": [],
   "source": [
    "# compute term frequency\n",
    "# inputs: wordvec is a series that contains, for a given doc, \n",
    "#                 the word counts for each term in the vocab\n",
    "#         doclen  is the length of the document\n",
    "# returns: a series with new term-frequencies (raw counts divided by doc length)\n",
    "def computetf(wordvec,doclen):\n",
    "    tf = wordvec / doclen\n",
    "    return tf"
   ]
  },
  {
   "cell_type": "markdown",
   "metadata": {},
   "source": [
    "**3.2 Write a function to comput inverse document frequency**\n",
    "\n",
    "Please write your own code here and resiste the urge to rely on google for your answer."
   ]
  },
  {
   "cell_type": "code",
   "execution_count": 14,
   "metadata": {},
   "outputs": [],
   "source": [
    "import math # you may need this for the log function\n",
    "\n",
    "# input:   document-by-term (row-by-column) dataframe\n",
    "# returns: dictionary of key-value pairs. Keys are terms in the vocab, values are IDF.\n",
    "\n",
    "def computeidf(df):\n",
    "    idf = {}\n",
    "    N = len(df)\n",
    "    for column in df:\n",
    "        dft = np.count_nonzero(df[column])\n",
    "        idf[column] = math.log(N/dft)\n",
    "    return idf"
   ]
  },
  {
   "cell_type": "markdown",
   "metadata": {},
   "source": [
    "**Create a new dataframe and populate it with the TF-IDF values for each document-term combination**\n",
    "\n",
    "The functions your write above should work with the below code snippet."
   ]
  },
  {
   "cell_type": "code",
   "execution_count": 15,
   "metadata": {},
   "outputs": [],
   "source": [
    "newdf = pd.DataFrame()\n",
    "\n",
    "idfdict = computeidf(df)\n",
    "\n",
    "cols = df.columns\n",
    "for index, row in df.iterrows():\n",
    "    newrow = computetf(row,sizearr[index])\n",
    "    for c in cols:\n",
    "        newrow[c] = newrow[c]*idfdict[c]\n",
    "    newdf = newdf.append(newrow)"
   ]
  },
  {
   "cell_type": "code",
   "execution_count": 16,
   "metadata": {},
   "outputs": [
    {
     "data": {
      "text/plain": [
       "(58, 5333)"
      ]
     },
     "execution_count": 16,
     "metadata": {},
     "output_type": "execute_result"
    }
   ],
   "source": [
    "newdf.shape"
   ]
  },
  {
   "cell_type": "markdown",
   "metadata": {},
   "source": [
    "---\n",
    "### 4. Using TF-IDF values, find and rank order the 3 closest inaugural addresses to Donald Trump's 2017 address, measured by cosine similarity"
   ]
  },
  {
   "cell_type": "code",
   "execution_count": 17,
   "metadata": {},
   "outputs": [],
   "source": [
    "# President Trump's address is 57 (0-indexed)\n",
    "# newdf.iloc[57,:].head(100)"
   ]
  },
  {
   "cell_type": "markdown",
   "metadata": {},
   "source": [
    "**4.1 Create an array called dist that contains the cosine similarity distance between the 2017 inaugural address (called d1 below) and each of the inaugural addresses**"
   ]
  },
  {
   "cell_type": "code",
   "execution_count": 18,
   "metadata": {},
   "outputs": [],
   "source": [
    "def cosine_similarity(v1, v2):\n",
    "    \n",
    "    numerator = np.dot(v1, v2)\n",
    "    v1_denom = np.linalg.norm(v1)\n",
    "    v2_denom = np.linalg.norm(v2)\n",
    "    \n",
    "    return numerator / (v1_denom * v2_denom)"
   ]
  },
  {
   "cell_type": "code",
   "execution_count": 19,
   "metadata": {},
   "outputs": [],
   "source": [
    "d1 = newdf.iloc[57,:]\n",
    "dist = []\n",
    "dist_dict = {}\n",
    "for index,row in newdf.iterrows():\n",
    "    if index == 57:\n",
    "        continue\n",
    "    dist.append(cosine_similarity(d1,row))\n",
    "    dist_dict[index] = cosine_similarity(d1,row)"
   ]
  },
  {
   "cell_type": "code",
   "execution_count": 20,
   "metadata": {},
   "outputs": [
    {
     "data": {
      "text/plain": [
       "[0.02860795897837415,\n",
       " 0.03471942968390179,\n",
       " 0.055239113336792864,\n",
       " 0.048436952490562894,\n",
       " 0.05269049463651166,\n",
       " 0.03027621624673938,\n",
       " 0.03231802303542696,\n",
       " 0.05935016243428935,\n",
       " 0.05147393631399156,\n",
       " 0.0523542555245995,\n",
       " 0.032287262844052596,\n",
       " 0.03869012186983457,\n",
       " 0.06017713267186446,\n",
       " 0.07666048087282248,\n",
       " 0.07204332582247555,\n",
       " 0.05642737254693145,\n",
       " 0.0652110254904181,\n",
       " 0.06504029153691371,\n",
       " 0.04649199428604922,\n",
       " 0.03615207036571029,\n",
       " 0.05687505624302786,\n",
       " 0.04430460972629467,\n",
       " 0.04328536012658258,\n",
       " 0.07070298665046237,\n",
       " 0.06298999174537798,\n",
       " 0.07153950409411992,\n",
       " 0.05143053630038724,\n",
       " 0.06781073657517606,\n",
       " 0.05452479572013955,\n",
       " 0.05643739571654791,\n",
       " 0.06522131277771749,\n",
       " 0.08788821924884013,\n",
       " 0.0654324850052488,\n",
       " 0.09772169165220194,\n",
       " 0.09277971798078127,\n",
       " 0.08591772021235018,\n",
       " 0.07235271042106088,\n",
       " 0.10048323226728907,\n",
       " 0.09346489059360868,\n",
       " 0.07612767850886891,\n",
       " 0.0654824783346264,\n",
       " 0.10763347784546086,\n",
       " 0.11287871018934818,\n",
       " 0.10964045859846829,\n",
       " 0.08680634460048006,\n",
       " 0.20210611191067587,\n",
       " 0.14039230670002528,\n",
       " 0.10553616971981535,\n",
       " 0.16889758198329718,\n",
       " 0.15276792306462425,\n",
       " 0.17698746183852482,\n",
       " 0.21711492438494676,\n",
       " 0.21660698764348751,\n",
       " 0.14919096152017566,\n",
       " 0.1492460460372694,\n",
       " 0.19799608597314372,\n",
       " 0.17845014569219728]"
      ]
     },
     "execution_count": 20,
     "metadata": {},
     "output_type": "execute_result"
    }
   ],
   "source": [
    "dist"
   ]
  },
  {
   "cell_type": "markdown",
   "metadata": {},
   "source": [
    "**4.2 Find the 3 closest associated inaugural address, when measured by cosign similarity. Which one is the closest?**"
   ]
  },
  {
   "cell_type": "code",
   "execution_count": 21,
   "metadata": {},
   "outputs": [
    {
     "data": {
      "text/plain": [
       "['1993-Clinton.txt', '1997-Clinton.txt', '1969-Nixon.txt']"
      ]
     },
     "execution_count": 21,
     "metadata": {},
     "output_type": "execute_result"
    }
   ],
   "source": [
    "closest_3 = list({k: v for k, v in sorted(dist_dict.items(),reverse=True, key=lambda item: item[1])}.keys())[0:3]\n",
    "all_speeches = inaugural.fileids()\n",
    "[all_speeches[i] for i in closest_3]"
   ]
  },
  {
   "cell_type": "markdown",
   "metadata": {},
   "source": [
    "The closest speech to Donald Trump's inaugural speech in 2017 is President Bill Clinton's 1993 inaugural speech. Second was President Clinton's in 1997, and then President Nixons's in 1969."
   ]
  },
  {
   "cell_type": "markdown",
   "metadata": {},
   "source": [
    "**4.3 What is your explanation/understanding of why these documents are \"close\" to the 2017? Please explain."
   ]
  },
  {
   "cell_type": "markdown",
   "metadata": {},
   "source": [
    "The three speeches that I found close to the one in 2017 were both of President Clinton's addresses and Nixon's. Although this had nothing to do with their inaugural addresses', all three of these presidents were at some point impeached. I think colloquially, it makes sense that Trump's speech is closer to relatively more recent speeches as we're probably using more similar words now than the 1800s.\n",
    "\n",
    "\n",
    "From some initial research, I believe Trump's speech may be close to Nixon's due to the terminology and words they used. Trump's campaign was potentially inspired by Nixon's, and probably is a reason why their speeches were similar.\n",
    "\n",
    "I think Trump's speech may be most similar to Clinton's speeches because they're addressing similar issues at the time. However, I think the context in which they're addressing them may be different and the semantic meaning of them are being lost."
   ]
  },
  {
   "cell_type": "markdown",
   "metadata": {},
   "source": [
    "---\n",
    "### 5. Compute the first two principal components of the TF-IDF matrix, and plot each document along each of the PCA components\n",
    "For this question, feel free to use google, stackoverflow, etc to help you compute the PCA (it's pretty easy, just one or two lines). Don't worry too much about the theory for now - we're going to discuss the Principal Component Decomposition later in the semester."
   ]
  },
  {
   "cell_type": "code",
   "execution_count": 22,
   "metadata": {},
   "outputs": [],
   "source": [
    "from sklearn.decomposition import PCA\n",
    "import matplotlib.pyplot as plt"
   ]
  },
  {
   "cell_type": "code",
   "execution_count": 23,
   "metadata": {},
   "outputs": [],
   "source": [
    "# your code to compute the PCA goes here\n",
    "# The result should be X, an array of 2-element arrays\n",
    "pca = PCA(n_components=2)\n",
    "X = pca.fit_transform(newdf)"
   ]
  },
  {
   "cell_type": "code",
   "execution_count": 24,
   "metadata": {},
   "outputs": [
    {
     "data": {
      "text/plain": [
       "58"
      ]
     },
     "execution_count": 24,
     "metadata": {},
     "output_type": "execute_result"
    }
   ],
   "source": [
    "len(X)"
   ]
  },
  {
   "cell_type": "code",
   "execution_count": 25,
   "metadata": {},
   "outputs": [
    {
     "data": {
      "image/png": "[encoded data removed]",
      "text/plain": [
       "<Figure size 432x288 with 1 Axes>"
      ]
     },
     "metadata": {
      "needs_background": "light"
     },
     "output_type": "display_data"
    }
   ],
   "source": [
    "plt.scatter(X[:, 0], X[:, 1], alpha=0.2)\n",
    "plt.axis('equal');\n",
    "for i in range(0,58):\n",
    "    plt.text(X[i,0],X[i,1],inaugural.fileids()[i])"
   ]
  },
  {
   "cell_type": "code",
   "execution_count": null,
   "metadata": {},
   "outputs": [],
   "source": []
  }
 ],
 "metadata": {
  "kernelspec": {
   "display_name": "Python 3",
   "language": "python",
   "name": "python3"
  },
  "language_info": {
   "codemirror_mode": {
    "name": "ipython",
    "version": 3
   },
   "file_extension": ".py",
   "mimetype": "text/x-python",
   "name": "python",
   "nbconvert_exporter": "python",
   "pygments_lexer": "ipython3",
   "version": "3.7.7"
  }
 },
 "nbformat": 4,
 "nbformat_minor": 4
}
