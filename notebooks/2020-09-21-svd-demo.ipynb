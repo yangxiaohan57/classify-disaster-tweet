{
 "cells": [
  {
   "cell_type": "code",
   "execution_count": 1,
   "metadata": {},
   "outputs": [],
   "source": [
    "import numpy as np\n",
    "import pandas as pd\n",
    "\n",
    "import nltk\n",
    "from nltk.corpus import stopwords\n",
    "from nltk.corpus import inaugural"
   ]
  },
  {
   "cell_type": "code",
   "execution_count": 2,
   "metadata": {},
   "outputs": [],
   "source": [
    "df = pd.DataFrame()\n",
    "\n",
    "i=0\n",
    "for fileid in inaugural.fileids()[0:10]:\n",
    "    df = df.append({'docid':i, 'doc':inaugural.raw(fileid)}, ignore_index=True)\n",
    "    i += 1"
   ]
  },
  {
   "cell_type": "code",
   "execution_count": 3,
   "metadata": {},
   "outputs": [
    {
     "data": {
      "text/html": [
       "<div>\n",
       "<style scoped>\n",
       "    .dataframe tbody tr th:only-of-type {\n",
       "        vertical-align: middle;\n",
       "    }\n",
       "\n",
       "    .dataframe tbody tr th {\n",
       "        vertical-align: top;\n",
       "    }\n",
       "\n",
       "    .dataframe thead th {\n",
       "        text-align: right;\n",
       "    }\n",
       "</style>\n",
       "<table border=\"1\" class=\"dataframe\">\n",
       "  <thead>\n",
       "    <tr style=\"text-align: right;\">\n",
       "      <th></th>\n",
       "      <th>doc</th>\n",
       "      <th>docid</th>\n",
       "    </tr>\n",
       "  </thead>\n",
       "  <tbody>\n",
       "    <tr>\n",
       "      <th>0</th>\n",
       "      <td>Fellow-Citizens of the Senate and of the House...</td>\n",
       "      <td>0.0</td>\n",
       "    </tr>\n",
       "    <tr>\n",
       "      <th>1</th>\n",
       "      <td>Fellow citizens, I am again called upon by the...</td>\n",
       "      <td>1.0</td>\n",
       "    </tr>\n",
       "    <tr>\n",
       "      <th>2</th>\n",
       "      <td>When it was first perceived, in early times, t...</td>\n",
       "      <td>2.0</td>\n",
       "    </tr>\n",
       "    <tr>\n",
       "      <th>3</th>\n",
       "      <td>Friends and Fellow Citizens:\\n\\nCalled upon to...</td>\n",
       "      <td>3.0</td>\n",
       "    </tr>\n",
       "    <tr>\n",
       "      <th>4</th>\n",
       "      <td>Proceeding, fellow citizens, to that qualifica...</td>\n",
       "      <td>4.0</td>\n",
       "    </tr>\n",
       "  </tbody>\n",
       "</table>\n",
       "</div>"
      ],
      "text/plain": [
       "                                                 doc  docid\n",
       "0  Fellow-Citizens of the Senate and of the House...    0.0\n",
       "1  Fellow citizens, I am again called upon by the...    1.0\n",
       "2  When it was first perceived, in early times, t...    2.0\n",
       "3  Friends and Fellow Citizens:\\n\\nCalled upon to...    3.0\n",
       "4  Proceeding, fellow citizens, to that qualifica...    4.0"
      ]
     },
     "execution_count": 3,
     "metadata": {},
     "output_type": "execute_result"
    }
   ],
   "source": [
    "df.head()"
   ]
  },
  {
   "cell_type": "markdown",
   "metadata": {},
   "source": [
    "### scikit-learn contains a very convenient TF-IDF function"
   ]
  },
  {
   "cell_type": "code",
   "execution_count": 4,
   "metadata": {},
   "outputs": [],
   "source": [
    "from sklearn.feature_extraction.text import TfidfVectorizer\n",
    "\n",
    "V = TfidfVectorizer()\n",
    "X = V.fit_transform(df['doc'])"
   ]
  },
  {
   "cell_type": "markdown",
   "metadata": {},
   "source": [
    "### and also a function for computing the SVD"
   ]
  },
  {
   "cell_type": "code",
   "execution_count": 5,
   "metadata": {},
   "outputs": [],
   "source": [
    "from sklearn.decomposition import TruncatedSVD\n",
    "\n",
    "svd = TruncatedSVD(n_components=5, n_iter=7, random_state=42)"
   ]
  },
  {
   "cell_type": "code",
   "execution_count": 6,
   "metadata": {},
   "outputs": [
    {
     "data": {
      "text/plain": [
       "TruncatedSVD(n_components=5, n_iter=7, random_state=42)"
      ]
     },
     "execution_count": 6,
     "metadata": {},
     "output_type": "execute_result"
    }
   ],
   "source": [
    "svd.fit(X)"
   ]
  },
  {
   "cell_type": "markdown",
   "metadata": {},
   "source": [
    "**With the SVD computed, we can now extract the factors**\n",
    "\n",
    "`svd.transform(X)` produces $U * \\Sigma$"
   ]
  },
  {
   "cell_type": "code",
   "execution_count": 7,
   "metadata": {},
   "outputs": [
    {
     "data": {
      "text/plain": [
       "array([[ 0.93463347, -0.01492144, -0.03610824,  0.31191945,  0.06088167],\n",
       "       [ 0.76700655,  0.63903337,  0.01255701, -0.03550425,  0.03707685],\n",
       "       [ 0.94174323, -0.04659484, -0.17967291, -0.03786259, -0.16746802],\n",
       "       [ 0.94617395, -0.06802826, -0.17601907, -0.10595164,  0.00550266],\n",
       "       [ 0.93915482, -0.12237826, -0.07266183, -0.13246871,  0.25376191],\n",
       "       [ 0.94993958, -0.04975374,  0.0081433 ,  0.06040607, -0.01287225],\n",
       "       [ 0.93172153, -0.08190089,  0.26375008, -0.12132008, -0.06448393],\n",
       "       [ 0.96293912, -0.07971455,  0.07947081,  0.00791192,  0.01137386],\n",
       "       [ 0.95911734, -0.07054314,  0.12833825,  0.05638333,  0.02770982],\n",
       "       [ 0.95928001,  0.01560924, -0.02604711, -0.01045235, -0.14216591]])"
      ]
     },
     "execution_count": 7,
     "metadata": {},
     "output_type": "execute_result"
    }
   ],
   "source": [
    "svd.transform(X)"
   ]
  },
  {
   "cell_type": "markdown",
   "metadata": {},
   "source": [
    "`svd.components_` generates $V^T$"
   ]
  },
  {
   "cell_type": "code",
   "execution_count": 8,
   "metadata": {},
   "outputs": [
    {
     "data": {
      "text/plain": [
       "array([[ 0.00272336,  0.00054467,  0.00159054, ...,  0.00106196,\n",
       "         0.00199141,  0.00070456],\n",
       "       [-0.00384686, -0.00076937, -0.00048768, ..., -0.00160627,\n",
       "        -0.00219143, -0.00112016],\n",
       "       [ 0.01935716,  0.00387143, -0.00326409, ...,  0.00591679,\n",
       "         0.00398704,  0.00308875],\n",
       "       [ 0.00921755,  0.00184351,  0.03056171, ...,  0.00185049,\n",
       "         0.00716281,  0.0003333 ],\n",
       "       [ 0.00554277,  0.00110855,  0.00729878, ...,  0.00144075,\n",
       "        -0.00051662,  0.00058626]])"
      ]
     },
     "execution_count": 8,
     "metadata": {},
     "output_type": "execute_result"
    }
   ],
   "source": [
    "svd.components_"
   ]
  },
  {
   "cell_type": "markdown",
   "metadata": {},
   "source": [
    "`svd.singular_values_` generates $\\Sigma$ in vector form"
   ]
  },
  {
   "cell_type": "code",
   "execution_count": 9,
   "metadata": {},
   "outputs": [
    {
     "data": {
      "text/plain": [
       "array([2.94344053, 0.67165411, 0.40385824, 0.38791748, 0.35069133])"
      ]
     },
     "execution_count": 9,
     "metadata": {},
     "output_type": "execute_result"
    }
   ],
   "source": [
    "svd.singular_values_"
   ]
  },
  {
   "cell_type": "markdown",
   "metadata": {},
   "source": [
    "### Under the covers, there is another way to generate the factors explicitly\n",
    "\n",
    "We call the not-so-well-known function `randomized_svd()`"
   ]
  },
  {
   "cell_type": "code",
   "execution_count": 10,
   "metadata": {},
   "outputs": [],
   "source": [
    "from sklearn.utils.extmath import randomized_svd\n",
    "\n",
    "U, Sigma, VT = randomized_svd(X, \n",
    "                              n_components=10,\n",
    "                              n_iter=5,\n",
    "                              random_state=None)"
   ]
  },
  {
   "cell_type": "code",
   "execution_count": 11,
   "metadata": {},
   "outputs": [
    {
     "data": {
      "text/plain": [
       "(array([[ 0.31753095, -0.02221595, -0.08940821,  0.80408714,  0.17360472,\n",
       "         -0.4090113 , -0.18264982,  0.00332914,  0.06311966,  0.09667276],\n",
       "        [ 0.26058164,  0.95143224,  0.03109261, -0.09152527,  0.10572502,\n",
       "         -0.01850966,  0.04258036,  0.01670277, -0.06237652,  0.00519603],\n",
       "        [ 0.31994641, -0.06937326, -0.44489104, -0.09760475, -0.47753681,\n",
       "         -0.29494653,  0.53096516,  0.2851214 , -0.08390036, -0.00863578],\n",
       "        [ 0.3214517 , -0.10128467, -0.4358437 , -0.27312933,  0.01569088,\n",
       "         -0.06215974, -0.4975021 , -0.40225353, -0.43287484, -0.14506535],\n",
       "        [ 0.31906703, -0.18220429, -0.17991915, -0.34148684,  0.72360473,\n",
       "         -0.0636217 ,  0.13631377,  0.19898271,  0.3594392 ,  0.03146489],\n",
       "        [ 0.32273102, -0.07407643,  0.02016376,  0.15571887, -0.03670535,\n",
       "          0.59755067, -0.23425276,  0.62546142, -0.23775825, -0.06843249],\n",
       "        [ 0.31654165, -0.12193908,  0.65307588, -0.31274715, -0.18387661,\n",
       "         -0.4649036 , -0.25636768,  0.20380738, -0.04409237,  0.03822841],\n",
       "        [ 0.32714747, -0.11868392,  0.19677898,  0.02039589,  0.03243267,\n",
       "          0.26820104,  0.296044  , -0.34829733, -0.23210806,  0.70988717],\n",
       "        [ 0.32584906, -0.10502896,  0.31778043,  0.14534878,  0.07901485,\n",
       "          0.15679839,  0.39426458, -0.33048107, -0.08396702, -0.67685951],\n",
       "        [ 0.32590433,  0.02324   , -0.06449569, -0.02694479, -0.40538758,\n",
       "          0.26027379, -0.23049257, -0.23183075,  0.74102017,  0.01719874]]),\n",
       " array([2.94344053, 0.67165411, 0.40385824, 0.38791748, 0.35069133,\n",
       "        0.34206117, 0.32804169, 0.31682465, 0.26815829, 0.22708765]),\n",
       " array([[ 0.00272336,  0.00054467,  0.00159054, ...,  0.00106196,\n",
       "          0.00199141,  0.00070456],\n",
       "        [-0.00384686, -0.00076937, -0.00048768, ..., -0.00160627,\n",
       "         -0.00219143, -0.00112016],\n",
       "        [ 0.01935716,  0.00387143, -0.00326409, ...,  0.00591679,\n",
       "          0.00398704,  0.00308875],\n",
       "        ...,\n",
       "        [-0.02566085, -0.00513217,  0.00015493, ..., -0.01028701,\n",
       "          0.02315609, -0.00696889],\n",
       "        [-0.00770302, -0.0015406 ,  0.00347046, ..., -0.00597407,\n",
       "         -0.01366896, -0.00548696],\n",
       "        [-0.07332439, -0.01466488,  0.0062766 , ...,  0.0043794 ,\n",
       "         -0.01666716,  0.01981656]]))"
      ]
     },
     "execution_count": 11,
     "metadata": {},
     "output_type": "execute_result"
    }
   ],
   "source": [
    "U, Sigma, VT"
   ]
  },
  {
   "cell_type": "code",
   "execution_count": 12,
   "metadata": {},
   "outputs": [
    {
     "data": {
      "text/plain": [
       "(array([[ 0.31753095, -0.02221595, -0.08940821,  0.80408714,  0.17360472],\n",
       "        [ 0.26058164,  0.95143224,  0.03109261, -0.09152527,  0.10572502],\n",
       "        [ 0.31994641, -0.06937326, -0.44489104, -0.09760475, -0.47753681],\n",
       "        [ 0.3214517 , -0.10128467, -0.4358437 , -0.27312933,  0.01569088],\n",
       "        [ 0.31906703, -0.18220429, -0.17991915, -0.34148684,  0.72360473],\n",
       "        [ 0.32273102, -0.07407643,  0.02016376,  0.15571887, -0.03670535],\n",
       "        [ 0.31654165, -0.12193908,  0.65307588, -0.31274715, -0.18387661],\n",
       "        [ 0.32714747, -0.11868392,  0.19677898,  0.02039589,  0.03243267],\n",
       "        [ 0.32584906, -0.10502896,  0.31778043,  0.14534878,  0.07901485],\n",
       "        [ 0.32590433,  0.02324   , -0.06449569, -0.02694479, -0.40538758]]),\n",
       " array([2.94344053, 0.67165411, 0.40385824, 0.38791748, 0.35069133]),\n",
       " array([[ 0.00272336,  0.00054467,  0.00159054, ...,  0.00106196,\n",
       "          0.00199141,  0.00070456],\n",
       "        [-0.00384686, -0.00076937, -0.00048768, ..., -0.00160627,\n",
       "         -0.00219143, -0.00112016],\n",
       "        [ 0.01935716,  0.00387143, -0.00326409, ...,  0.00591679,\n",
       "          0.00398704,  0.00308875],\n",
       "        [ 0.00921755,  0.00184351,  0.03056171, ...,  0.00185049,\n",
       "          0.00716281,  0.0003333 ],\n",
       "        [ 0.00554277,  0.00110855,  0.00729878, ...,  0.00144075,\n",
       "         -0.00051662,  0.00058626]]))"
      ]
     },
     "execution_count": 12,
     "metadata": {},
     "output_type": "execute_result"
    }
   ],
   "source": [
    "svd.fit_transform(X) / svd.singular_values_, svd.singular_values_, svd.components_\n"
   ]
  },
  {
   "cell_type": "code",
   "execution_count": null,
   "metadata": {},
   "outputs": [],
   "source": []
  }
 ],
 "metadata": {
  "kernelspec": {
   "display_name": "Python 3",
   "language": "python",
   "name": "python3"
  },
  "language_info": {
   "codemirror_mode": {
    "name": "ipython",
    "version": 3
   },
   "file_extension": ".py",
   "mimetype": "text/x-python",
   "name": "python",
   "nbconvert_exporter": "python",
   "pygments_lexer": "ipython3",
   "version": "3.7.7"
  }
 },
 "nbformat": 4,
 "nbformat_minor": 4
}
