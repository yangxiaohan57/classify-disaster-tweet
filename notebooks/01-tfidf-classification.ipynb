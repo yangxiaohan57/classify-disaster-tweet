{
 "cells": [
  {
   "cell_type": "markdown",
   "metadata": {},
   "source": [
    "## Final project"
   ]
  },
  {
   "cell_type": "code",
   "execution_count": 1,
   "metadata": {},
   "outputs": [],
   "source": [
    "import pandas as pd\n",
    "import matplotlib.pyplot as plt\n",
    "from nltk.corpus import stopwords\n",
    "import glob\n",
    "import os\n",
    "from pathlib import Path\n",
    "import nltk\n",
    "# nltk.download('wordnet')"
   ]
  },
  {
   "cell_type": "code",
   "execution_count": 2,
   "metadata": {},
   "outputs": [],
   "source": [
    "repo = Path(os.getcwd())\n",
    "data_path = repo / '..' / 'data'"
   ]
  },
  {
   "cell_type": "code",
   "execution_count": 3,
   "metadata": {},
   "outputs": [],
   "source": [
    "df = pd.read_csv(data_path / '02_clean' / 'train.csv')"
   ]
  },
  {
   "cell_type": "code",
   "execution_count": 4,
   "metadata": {},
   "outputs": [],
   "source": [
    "import nltk\n",
    "\n",
    "w_tokenizer = nltk.tokenize.WhitespaceTokenizer()\n",
    "lemmatizer = nltk.stem.WordNetLemmatizer()\n",
    "\n",
    "def lemmatize_text(text):\n",
    "    text = [lemmatizer.lemmatize(w) for w in w_tokenizer.tokenize(text)]\n",
    "    text = ' '.join(text)\n",
    "    return text"
   ]
  },
  {
   "cell_type": "code",
   "execution_count": 5,
   "metadata": {},
   "outputs": [],
   "source": [
    "df['tweet'] = df['tweet'].apply(lemmatize_text)"
   ]
  },
  {
   "cell_type": "code",
   "execution_count": 6,
   "metadata": {},
   "outputs": [],
   "source": [
    "kw = pd.get_dummies(df['keyword'], prefix = 'kw')\n",
    "df = pd.concat([df,kw], axis=1)"
   ]
  },
  {
   "cell_type": "code",
   "execution_count": 7,
   "metadata": {},
   "outputs": [],
   "source": [
    "from sklearn.model_selection import train_test_split\n",
    "\n",
    "X = df\n",
    "y = df[\"target\"]\n",
    "\n",
    "# split into training and test\n",
    "X_train, X_test, y_train, y_test = train_test_split(X, y, test_size = 0.3, random_state = 0)"
   ]
  },
  {
   "cell_type": "code",
   "execution_count": 8,
   "metadata": {},
   "outputs": [],
   "source": [
    "X_train_ef = X_train[['uprchar_pct', 'lwrchar_pct', 'lwrcase_pct',\n",
    "                          'upprcase_pct', 'titlecase_pct']]\n",
    "X_train_kw = X_train[list(kw.columns)]\n",
    "X_train = X_train['tweet']"
   ]
  },
  {
   "cell_type": "code",
   "execution_count": 9,
   "metadata": {},
   "outputs": [],
   "source": [
    "X_test_ef = X_test[['uprchar_pct', 'lwrchar_pct', 'lwrcase_pct',\n",
    "                          'upprcase_pct', 'titlecase_pct']]\n",
    "X_test_kw = X_test[list(kw.columns)]\n",
    "X_test = X_test['tweet']"
   ]
  },
  {
   "cell_type": "code",
   "execution_count": 10,
   "metadata": {},
   "outputs": [],
   "source": [
    "X = X['tweet']"
   ]
  },
  {
   "cell_type": "code",
   "execution_count": 11,
   "metadata": {},
   "outputs": [],
   "source": [
    "from sklearn.feature_extraction.text import TfidfVectorizer\n",
    "stops = set(stopwords.words('english'))\n",
    "stops = map(lambda x:x.lower(),stops)\n",
    "vectorizer = TfidfVectorizer(stop_words=stops)\n",
    "vectorizer.fit(X)\n",
    "\n",
    "# extract features\n",
    "x_train = vectorizer.transform(X_train)\n",
    "x_test = vectorizer.transform(X_test)"
   ]
  },
  {
   "cell_type": "code",
   "execution_count": 12,
   "metadata": {},
   "outputs": [
    {
     "name": "stdout",
     "output_type": "stream",
     "text": [
      "(5329, 12866) (2284, 12866)\n"
     ]
    }
   ],
   "source": [
    "print(x_train.shape, x_test.shape)"
   ]
  },
  {
   "cell_type": "code",
   "execution_count": 13,
   "metadata": {},
   "outputs": [],
   "source": [
    "# x_test_tfidf = pd.DataFrame(x_test.todense(), columns=vectorizer.get_feature_names())\n",
    "# x_test_ef = X_test_ef.reset_index(drop=True)\n",
    "# x_test = pd.concat([x_test_tfidf, x_test_ef], axis=1)\n",
    "\n",
    "x_test = pd.DataFrame(x_test.todense(), columns=vectorizer.get_feature_names())\n",
    "x_test_kw = X_test_kw.reset_index(drop=True)\n",
    "x_test_ef = X_test_ef.reset_index(drop=True)\n",
    "x_test = pd.concat([x_test, x_test_kw, x_test_ef], axis=1)"
   ]
  },
  {
   "cell_type": "code",
   "execution_count": 14,
   "metadata": {},
   "outputs": [],
   "source": [
    "# x_train_tfidf = pd.DataFrame(x_train.todense(), columns=vectorizer.get_feature_names())\n",
    "# x_train_ef = X_train_ef.reset_index(drop=True)\n",
    "# x_train = pd.concat([x_train_tfidf, x_train_ef], axis=1)\n",
    "\n",
    "x_train = pd.DataFrame(x_train.todense(), columns=vectorizer.get_feature_names())\n",
    "x_train_kw = X_train_kw.reset_index(drop=True)\n",
    "x_train_ef = X_train_ef.reset_index(drop=True)\n",
    "x_train = pd.concat([x_train, x_train_kw, x_train_ef], axis=1)"
   ]
  },
  {
   "cell_type": "markdown",
   "metadata": {},
   "source": [
    "### PCA"
   ]
  },
  {
   "cell_type": "code",
   "execution_count": 15,
   "metadata": {},
   "outputs": [],
   "source": [
    "from sklearn.decomposition import PCA"
   ]
  },
  {
   "cell_type": "code",
   "execution_count": 16,
   "metadata": {},
   "outputs": [],
   "source": [
    "# pca = PCA(n_components=1750)\n",
    "# pca.fit(x_train)\n",
    "# x_train = pca.transform(x_train)\n",
    "# x_test = pca.transform(x_test)"
   ]
  },
  {
   "cell_type": "code",
   "execution_count": 17,
   "metadata": {},
   "outputs": [],
   "source": [
    "from sklearn.linear_model import LogisticRegression\n",
    "\n",
    "review_classifier = LogisticRegression(random_state = 0).fit(x_train, y_train)"
   ]
  },
  {
   "cell_type": "code",
   "execution_count": 18,
   "metadata": {},
   "outputs": [
    {
     "name": "stdout",
     "output_type": "stream",
     "text": [
      "Precision: 0.79\n",
      "Recall: 0.71\n",
      "F1: 0.75\n",
      "Average Precision: 0.68\n"
     ]
    }
   ],
   "source": [
    "from sklearn.metrics import precision_score\n",
    "from sklearn.metrics import recall_score\n",
    "from sklearn.metrics import f1_score\n",
    "from sklearn.metrics import average_precision_score\n",
    "\n",
    "# precision, recall, f1, and average precision below\n",
    "y_pred = review_classifier.predict(x_test)\n",
    "\n",
    "print(\"Precision:\", round(precision_score(y_test, y_pred, average='binary'),2))\n",
    "print(\"Recall:\", round(recall_score(y_test, y_pred, average='binary'),2))\n",
    "print(\"F1:\", round(f1_score(y_test, y_pred, average='binary'),2))\n",
    "print(\"Average Precision:\", round(average_precision_score(y_test, y_pred),2))"
   ]
  },
  {
   "cell_type": "code",
   "execution_count": 19,
   "metadata": {},
   "outputs": [
    {
     "data": {
      "text/plain": [
       "<sklearn.metrics._plot.precision_recall_curve.PrecisionRecallDisplay at 0x7fdf15e1a9d0>"
      ]
     },
     "execution_count": 19,
     "metadata": {},
     "output_type": "execute_result"
    },
    {
     "data": {
      "image/png": "[encoded data removed]",
      "text/plain": [
       "<Figure size 432x288 with 1 Axes>"
      ]
     },
     "metadata": {
      "needs_background": "light"
     },
     "output_type": "display_data"
    }
   ],
   "source": [
    "from sklearn.metrics import precision_recall_curve\n",
    "from sklearn.metrics import plot_precision_recall_curve\n",
    "\n",
    "# plot precision-recall curve\n",
    "y_pred_prob = review_classifier.predict_proba(x_test)\n",
    "precision_recall_curve_values = precision_recall_curve(y_test, y_pred_prob[:,1])\n",
    "plot_precision_recall_curve(estimator=review_classifier, X=x_test, y=y_test)"
   ]
  },
  {
   "cell_type": "code",
   "execution_count": 20,
   "metadata": {},
   "outputs": [
    {
     "data": {
      "image/png": "[encoded data removed]",
      "text/plain": [
       "<Figure size 432x288 with 1 Axes>"
      ]
     },
     "metadata": {
      "needs_background": "light"
     },
     "output_type": "display_data"
    }
   ],
   "source": [
    "from sklearn.metrics import roc_curve\n",
    "from sklearn.metrics import auc\n",
    "\n",
    "# plot ROC\n",
    "fpr, tpr, threshold = roc_curve(y_test, y_pred_prob[:,1])\n",
    "roc_auc = auc(fpr, tpr)\n",
    "\n",
    "plt.title('Receiver Operating Characteristic (ROC) Curve')\n",
    "plt.plot(fpr, tpr, 'b', label = 'AUC = %0.2f' % roc_auc)\n",
    "plt.legend(loc = 'lower right')\n",
    "plt.plot([0, 1], [0, 1],'r--')\n",
    "plt.xlim([0, 1])\n",
    "plt.ylim([0, 1])\n",
    "plt.ylabel('True Positive Rate')\n",
    "plt.xlabel('False Positive Rate')\n",
    "plt.show()"
   ]
  },
  {
   "cell_type": "markdown",
   "metadata": {},
   "source": [
    "### Decision Tree Classifier"
   ]
  },
  {
   "cell_type": "code",
   "execution_count": 21,
   "metadata": {},
   "outputs": [],
   "source": [
    "from sklearn.tree import DecisionTreeClassifier"
   ]
  },
  {
   "cell_type": "code",
   "execution_count": 22,
   "metadata": {},
   "outputs": [],
   "source": [
    "dt_clf = DecisionTreeClassifier(random_state=0).fit(x_train, y_train)"
   ]
  },
  {
   "cell_type": "code",
   "execution_count": 23,
   "metadata": {},
   "outputs": [
    {
     "name": "stdout",
     "output_type": "stream",
     "text": [
      "Precision: 0.65\n",
      "Recall: 0.6\n",
      "F1: 0.62\n",
      "Average Precision: 0.56\n"
     ]
    }
   ],
   "source": [
    "y_pred = dt_clf.predict(x_test)\n",
    "\n",
    "print(\"Precision:\", round(precision_score(y_test, y_pred, average='binary'),2))\n",
    "print(\"Recall:\", round(recall_score(y_test, y_pred, average='binary'),2))\n",
    "print(\"F1:\", round(f1_score(y_test, y_pred, average='binary'),2))\n",
    "print(\"Average Precision:\", round(average_precision_score(y_test, y_pred),2))"
   ]
  },
  {
   "cell_type": "markdown",
   "metadata": {},
   "source": [
    "### Random Forest Classifier"
   ]
  },
  {
   "cell_type": "code",
   "execution_count": 24,
   "metadata": {},
   "outputs": [],
   "source": [
    "from sklearn.ensemble import RandomForestClassifier"
   ]
  },
  {
   "cell_type": "code",
   "execution_count": 25,
   "metadata": {},
   "outputs": [],
   "source": [
    "rf_clf = RandomForestClassifier(n_jobs=2, random_state=0).fit(x_train, y_train)"
   ]
  },
  {
   "cell_type": "code",
   "execution_count": 26,
   "metadata": {},
   "outputs": [
    {
     "name": "stdout",
     "output_type": "stream",
     "text": [
      "Precision: 0.88\n",
      "Recall: 0.59\n",
      "F1: 0.71\n",
      "Average Precision: 0.69\n"
     ]
    }
   ],
   "source": [
    "y_pred = rf_clf.predict(x_test)\n",
    "\n",
    "print(\"Precision:\", round(precision_score(y_test, y_pred, average='binary'),2))\n",
    "print(\"Recall:\", round(recall_score(y_test, y_pred, average='binary'),2))\n",
    "print(\"F1:\", round(f1_score(y_test, y_pred, average='binary'),2))\n",
    "print(\"Average Precision:\", round(average_precision_score(y_test, y_pred),2))"
   ]
  },
  {
   "cell_type": "markdown",
   "metadata": {},
   "source": [
    "### MLP Neural Net Classifier"
   ]
  },
  {
   "cell_type": "code",
   "execution_count": 27,
   "metadata": {},
   "outputs": [],
   "source": [
    "from sklearn.neural_network import MLPClassifier"
   ]
  },
  {
   "cell_type": "code",
   "execution_count": 28,
   "metadata": {},
   "outputs": [],
   "source": [
    "mlp_clf = MLPClassifier(random_state=0, max_iter=300).fit(x_train, y_train)"
   ]
  },
  {
   "cell_type": "code",
   "execution_count": 29,
   "metadata": {},
   "outputs": [
    {
     "name": "stdout",
     "output_type": "stream",
     "text": [
      "Precision: 0.73\n",
      "Recall: 0.72\n",
      "F1: 0.73\n",
      "Average Precision: 0.65\n"
     ]
    }
   ],
   "source": [
    "y_pred = mlp_clf.predict(x_test)\n",
    "\n",
    "print(\"Precision:\", round(precision_score(y_test, y_pred, average='binary'),2))\n",
    "print(\"Recall:\", round(recall_score(y_test, y_pred, average='binary'),2))\n",
    "print(\"F1:\", round(f1_score(y_test, y_pred, average='binary'),2))\n",
    "print(\"Average Precision:\", round(average_precision_score(y_test, y_pred),2))"
   ]
  },
  {
   "cell_type": "code",
   "execution_count": null,
   "metadata": {},
   "outputs": [],
   "source": []
  }
 ],
 "metadata": {
  "kernelspec": {
   "display_name": "Python 3",
   "language": "python",
   "name": "python3"
  },
  "language_info": {
   "codemirror_mode": {
    "name": "ipython",
    "version": 3
   },
   "file_extension": ".py",
   "mimetype": "text/x-python",
   "name": "python",
   "nbconvert_exporter": "python",
   "pygments_lexer": "ipython3",
   "version": "3.7.7"
  }
 },
 "nbformat": 4,
 "nbformat_minor": 4
}
