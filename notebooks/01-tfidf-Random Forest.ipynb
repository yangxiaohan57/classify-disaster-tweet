{
 "cells": [
  {
   "cell_type": "markdown",
   "metadata": {},
   "source": [
    "## Final project"
   ]
  },
  {
   "cell_type": "code",
   "execution_count": 38,
   "metadata": {},
   "outputs": [],
   "source": [
    "import pandas as pd\n",
    "import matplotlib.pyplot as plt\n",
    "from nltk.corpus import stopwords\n",
    "import glob\n",
    "import os\n",
    "from pathlib import Path\n",
    "import nltk\n",
    "import sklearn\n",
    "# nltk.download('wordnet')"
   ]
  },
  {
   "cell_type": "code",
   "execution_count": 8,
   "metadata": {},
   "outputs": [],
   "source": [
    "repo = Path(os.getcwd())\n",
    "data_path = repo / '..' / 'data'"
   ]
  },
  {
   "cell_type": "code",
   "execution_count": 9,
   "metadata": {},
   "outputs": [],
   "source": [
    "df = pd.read_csv('/Users/guanlxy/Desktop/train1.csv')"
   ]
  },
  {
   "cell_type": "code",
   "execution_count": 10,
   "metadata": {},
   "outputs": [],
   "source": [
    "import nltk\n",
    "\n",
    "w_tokenizer = nltk.tokenize.WhitespaceTokenizer()\n",
    "lemmatizer = nltk.stem.WordNetLemmatizer()\n",
    "\n",
    "def lemmatize_text(text):\n",
    "    text = [lemmatizer.lemmatize(w) for w in w_tokenizer.tokenize(text)]\n",
    "    text = ' '.join(text)\n",
    "    return text"
   ]
  },
  {
   "cell_type": "code",
   "execution_count": 11,
   "metadata": {},
   "outputs": [],
   "source": [
    "df['tweet'] = df['tweet'].apply(lemmatize_text)"
   ]
  },
  {
   "cell_type": "code",
   "execution_count": 12,
   "metadata": {},
   "outputs": [],
   "source": [
    "kw = pd.get_dummies(df['keyword'], prefix = 'kw')\n",
    "df = pd.concat([df,kw], axis=1)"
   ]
  },
  {
   "cell_type": "code",
   "execution_count": 13,
   "metadata": {},
   "outputs": [],
   "source": [
    "from sklearn.model_selection import train_test_split\n",
    "\n",
    "X = df\n",
    "y = df[\"target\"]\n",
    "\n",
    "# split into training and test\n",
    "X_train, X_test, y_train, y_test = train_test_split(X, y, test_size = 0.3, random_state = 0)"
   ]
  },
  {
   "cell_type": "code",
   "execution_count": 14,
   "metadata": {},
   "outputs": [],
   "source": [
    "X_train_ef = X_train[['uprchar_pct', 'lwrchar_pct', 'lwrcase_pct',\n",
    "                          'upprcase_pct', 'titlecase_pct']]\n",
    "X_train_kw = X_train[list(kw.columns)]\n",
    "X_train = X_train['tweet']"
   ]
  },
  {
   "cell_type": "code",
   "execution_count": 15,
   "metadata": {},
   "outputs": [],
   "source": [
    "X_test_ef = X_test[['uprchar_pct', 'lwrchar_pct', 'lwrcase_pct',\n",
    "                          'upprcase_pct', 'titlecase_pct']]\n",
    "X_test_kw = X_test[list(kw.columns)]\n",
    "X_test = X_test['tweet']"
   ]
  },
  {
   "cell_type": "code",
   "execution_count": 16,
   "metadata": {},
   "outputs": [],
   "source": [
    "X = X['tweet']"
   ]
  },
  {
   "cell_type": "code",
   "execution_count": 17,
   "metadata": {},
   "outputs": [],
   "source": [
    "from sklearn.feature_extraction.text import TfidfVectorizer\n",
    "stops = set(stopwords.words('english'))\n",
    "stops = map(lambda x:x.lower(),stops)\n",
    "vectorizer = TfidfVectorizer(stop_words=stops)\n",
    "vectorizer.fit(X)\n",
    "\n",
    "# extract features\n",
    "x_train = vectorizer.transform(X_train)\n",
    "x_test = vectorizer.transform(X_test)"
   ]
  },
  {
   "cell_type": "code",
   "execution_count": 18,
   "metadata": {},
   "outputs": [
    {
     "name": "stdout",
     "output_type": "stream",
     "text": [
      "(5329, 12866) (2284, 12866)\n"
     ]
    }
   ],
   "source": [
    "print(x_train.shape, x_test.shape)"
   ]
  },
  {
   "cell_type": "code",
   "execution_count": 19,
   "metadata": {},
   "outputs": [
    {
     "name": "stdout",
     "output_type": "stream",
     "text": [
      "  (0, 9930)\t0.20582834414220255\n",
      "  (0, 7326)\t0.3614113438851259\n",
      "  (0, 6350)\t0.3614113438851259\n",
      "  (0, 5473)\t0.3614113438851259\n",
      "  (0, 5040)\t0.2659294156250075\n",
      "  (0, 4847)\t0.24528497167141225\n",
      "  (0, 4735)\t0.2853372845634747\n",
      "  (0, 3791)\t0.22976915945626086\n",
      "  (0, 3782)\t0.23044907803698875\n",
      "  (0, 3203)\t0.2568672861391151\n",
      "  (0, 1088)\t0.3614113438851259\n",
      "  (0, 723)\t0.2065659949504776\n",
      "  (0, 42)\t0.09116227423675748\n",
      "  (1, 12578)\t0.3037626346199571\n",
      "  (1, 12414)\t0.26599034991348225\n",
      "  (1, 11423)\t0.39191936288492396\n",
      "  (1, 8793)\t0.29026197183310976\n",
      "  (1, 8344)\t0.19754230345850216\n",
      "  (1, 7435)\t0.2705780026002707\n",
      "  (1, 6913)\t0.2388365746306679\n",
      "  (1, 6215)\t0.2186967469744447\n",
      "  (1, 4707)\t0.2248182689670968\n",
      "  (1, 2567)\t0.3064987081072414\n",
      "  (1, 1206)\t0.4873738713420614\n",
      "  (2, 12303)\t0.3162933852416479\n",
      "  :\t:\n",
      "  (5326, 841)\t0.2139675191536505\n",
      "  (5326, 41)\t0.13671228024038942\n",
      "  (5327, 11510)\t0.3408013916275955\n",
      "  (5327, 10678)\t0.2964668082355582\n",
      "  (5327, 10527)\t0.30362383003428467\n",
      "  (5327, 10114)\t0.28888322950989065\n",
      "  (5327, 7863)\t0.32270313382786164\n",
      "  (5327, 5789)\t0.3257826855563464\n",
      "  (5327, 4209)\t0.3365471458970911\n",
      "  (5327, 3911)\t0.276745251694178\n",
      "  (5327, 2974)\t0.27782086508753534\n",
      "  (5327, 1206)\t0.2565705359724882\n",
      "  (5327, 971)\t0.27782086508753534\n",
      "  (5328, 9609)\t0.4179305059588736\n",
      "  (5328, 7206)\t0.31859819287800173\n",
      "  (5328, 6680)\t0.24152979806351285\n",
      "  (5328, 4648)\t0.26977707185540234\n",
      "  (5328, 3787)\t0.2657015134971038\n",
      "  (5328, 2996)\t0.2761808203179424\n",
      "  (5328, 1384)\t0.27819039933058737\n",
      "  (5328, 853)\t0.2761808203179424\n",
      "  (5328, 148)\t0.3996002053253363\n",
      "  (5328, 84)\t0.32995963664175376\n",
      "  (5328, 42)\t0.1054186484202873\n",
      "  (5328, 40)\t0.11183608948563767\n"
     ]
    }
   ],
   "source": [
    "print(x_train)"
   ]
  },
  {
   "cell_type": "code",
   "execution_count": 13,
   "metadata": {},
   "outputs": [],
   "source": [
    "# x_test_tfidf = pd.DataFrame(x_test.todense(), columns=vectorizer.get_feature_names())\n",
    "# x_test_ef = X_test_ef.reset_index(drop=True)\n",
    "# x_test = pd.concat([x_test_tfidf, x_test_ef], axis=1)\n",
    "\n",
    "x_test = pd.DataFrame(x_test.todense(), columns=vectorizer.get_feature_names())\n",
    "x_test_kw = X_test_kw.reset_index(drop=True)\n",
    "x_test_ef = X_test_ef.reset_index(drop=True)\n",
    "x_test = pd.concat([x_test, x_test_kw, x_test_ef], axis=1)"
   ]
  },
  {
   "cell_type": "code",
   "execution_count": 14,
   "metadata": {},
   "outputs": [],
   "source": [
    "# x_train_tfidf = pd.DataFrame(x_train.todense(), columns=vectorizer.get_feature_names())\n",
    "# x_train_ef = X_train_ef.reset_index(drop=True)\n",
    "# x_train = pd.concat([x_train_tfidf, x_train_ef], axis=1)\n",
    "\n",
    "x_train = pd.DataFrame(x_train.todense(), columns=vectorizer.get_feature_names())\n",
    "x_train_kw = X_train_kw.reset_index(drop=True)\n",
    "x_train_ef = X_train_ef.reset_index(drop=True)\n",
    "x_train = pd.concat([x_train, x_train_kw, x_train_ef], axis=1)"
   ]
  },
  {
   "cell_type": "markdown",
   "metadata": {},
   "source": [
    "### PCA"
   ]
  },
  {
   "cell_type": "code",
   "execution_count": 15,
   "metadata": {},
   "outputs": [],
   "source": [
    "from sklearn.decomposition import PCA"
   ]
  },
  {
   "cell_type": "code",
   "execution_count": 16,
   "metadata": {},
   "outputs": [],
   "source": [
    "# pca = PCA(n_components=1750)\n",
    "# pca.fit(x_train)\n",
    "# x_train = pca.transform(x_train)\n",
    "# x_test = pca.transform(x_test)"
   ]
  },
  {
   "cell_type": "code",
   "execution_count": 17,
   "metadata": {},
   "outputs": [],
   "source": [
    "from sklearn.linear_model import LogisticRegression\n",
    "\n",
    "review_classifier = LogisticRegression(random_state = 0).fit(x_train, y_train)"
   ]
  },
  {
   "cell_type": "code",
   "execution_count": 18,
   "metadata": {},
   "outputs": [
    {
     "name": "stdout",
     "output_type": "stream",
     "text": [
      "Precision: 0.79\n",
      "Recall: 0.71\n",
      "F1: 0.75\n",
      "Average Precision: 0.68\n"
     ]
    }
   ],
   "source": [
    "from sklearn.metrics import precision_score\n",
    "from sklearn.metrics import recall_score\n",
    "from sklearn.metrics import f1_score\n",
    "from sklearn.metrics import average_precision_score\n",
    "\n",
    "# precision, recall, f1, and average precision below\n",
    "y_pred = review_classifier.predict(x_test)\n",
    "\n",
    "print(\"Precision:\", round(precision_score(y_test, y_pred, average='binary'),2))\n",
    "print(\"Recall:\", round(recall_score(y_test, y_pred, average='binary'),2))\n",
    "print(\"F1:\", round(f1_score(y_test, y_pred, average='binary'),2))\n",
    "print(\"Average Precision:\", round(average_precision_score(y_test, y_pred),2))"
   ]
  },
  {
   "cell_type": "code",
   "execution_count": 19,
   "metadata": {},
   "outputs": [
    {
     "data": {
      "text/plain": [
       "<sklearn.metrics._plot.precision_recall_curve.PrecisionRecallDisplay at 0x7fdf15e1a9d0>"
      ]
     },
     "execution_count": 19,
     "metadata": {},
     "output_type": "execute_result"
    },
    {
     "data": {
      "image/png": "[encoded data removed]",
      "text/plain": [
       "<Figure size 432x288 with 1 Axes>"
      ]
     },
     "metadata": {
      "needs_background": "light"
     },
     "output_type": "display_data"
    }
   ],
   "source": [
    "from sklearn.metrics import precision_recall_curve\n",
    "from sklearn.metrics import plot_precision_recall_curve\n",
    "\n",
    "# plot precision-recall curve\n",
    "y_pred_prob = review_classifier.predict_proba(x_test)\n",
    "precision_recall_curve_values = precision_recall_curve(y_test, y_pred_prob[:,1])\n",
    "plot_precision_recall_curve(estimator=review_classifier, X=x_test, y=y_test)"
   ]
  },
  {
   "cell_type": "code",
   "execution_count": 20,
   "metadata": {},
   "outputs": [
    {
     "data": {
      "image/png": "[encoded data removed]",
      "text/plain": [
       "<Figure size 432x288 with 1 Axes>"
      ]
     },
     "metadata": {
      "needs_background": "light"
     },
     "output_type": "display_data"
    }
   ],
   "source": [
    "from sklearn.metrics import roc_curve\n",
    "from sklearn.metrics import auc\n",
    "\n",
    "# plot ROC\n",
    "fpr, tpr, threshold = roc_curve(y_test, y_pred_prob[:,1])\n",
    "roc_auc = auc(fpr, tpr)\n",
    "\n",
    "plt.title('Receiver Operating Characteristic (ROC) Curve')\n",
    "plt.plot(fpr, tpr, 'b', label = 'AUC = %0.2f' % roc_auc)\n",
    "plt.legend(loc = 'lower right')\n",
    "plt.plot([0, 1], [0, 1],'r--')\n",
    "plt.xlim([0, 1])\n",
    "plt.ylim([0, 1])\n",
    "plt.ylabel('True Positive Rate')\n",
    "plt.xlabel('False Positive Rate')\n",
    "plt.show()"
   ]
  },
  {
   "cell_type": "markdown",
   "metadata": {},
   "source": [
    "### Decision Tree Classifier"
   ]
  },
  {
   "cell_type": "code",
   "execution_count": 21,
   "metadata": {},
   "outputs": [],
   "source": [
    "from sklearn.tree import DecisionTreeClassifier"
   ]
  },
  {
   "cell_type": "code",
   "execution_count": 22,
   "metadata": {},
   "outputs": [],
   "source": [
    "dt_clf = DecisionTreeClassifier(random_state=0).fit(x_train, y_train)"
   ]
  },
  {
   "cell_type": "code",
   "execution_count": 23,
   "metadata": {},
   "outputs": [
    {
     "name": "stdout",
     "output_type": "stream",
     "text": [
      "Precision: 0.65\n",
      "Recall: 0.6\n",
      "F1: 0.62\n",
      "Average Precision: 0.56\n"
     ]
    }
   ],
   "source": [
    "y_pred = dt_clf.predict(x_test)\n",
    "\n",
    "print(\"Precision:\", round(precision_score(y_test, y_pred, average='binary'),2))\n",
    "print(\"Recall:\", round(recall_score(y_test, y_pred, average='binary'),2))\n",
    "print(\"F1:\", round(f1_score(y_test, y_pred, average='binary'),2))\n",
    "print(\"Average Precision:\", round(average_precision_score(y_test, y_pred),2))"
   ]
  },
  {
   "cell_type": "markdown",
   "metadata": {},
   "source": [
    "### Random Forest Classifier"
   ]
  },
  {
   "cell_type": "code",
   "execution_count": 20,
   "metadata": {},
   "outputs": [],
   "source": [
    "from sklearn.ensemble import RandomForestClassifier\n",
    "from sklearn.model_selection import GridSearchCV\n",
    "from sklearn import metrics\n",
    "from sklearn.model_selection import cross_validate"
   ]
  },
  {
   "cell_type": "code",
   "execution_count": 23,
   "metadata": {},
   "outputs": [],
   "source": [
    "X = x_train\n",
    "y = y_train"
   ]
  },
  {
   "cell_type": "code",
   "execution_count": 24,
   "metadata": {},
   "outputs": [
    {
     "name": "stdout",
     "output_type": "stream",
     "text": [
      "0.7689998123475323\n",
      "AUC Score (Train): 0.999108\n"
     ]
    }
   ],
   "source": [
    "rf0 = RandomForestClassifier(oob_score=True, random_state=10)\n",
    "rf0.fit(X,y)\n",
    "print (rf0.oob_score_)\n",
    "y_predprob = rf0.predict_proba(X)[:,1]\n",
    "print (\"AUC Score (Train): %f\" % metrics.roc_auc_score(y, y_predprob))"
   ]
  },
  {
   "cell_type": "code",
   "execution_count": 27,
   "metadata": {},
   "outputs": [
    {
     "data": {
      "text/plain": [
       "({'n_estimators': 250}, 0.7702992926961635)"
      ]
     },
     "execution_count": 27,
     "metadata": {},
     "output_type": "execute_result"
    }
   ],
   "source": [
    "param_test1 = {'n_estimators':range(10,271,10)}\n",
    "gsearch1 = GridSearchCV(estimator = RandomForestClassifier(min_samples_split=100,\n",
    "                                  min_samples_leaf=20,max_depth=8,max_features='sqrt' ,random_state=10), \n",
    "                       param_grid = param_test1, scoring='roc_auc',cv=5)\n",
    "gsearch1.fit(X,y)\n",
    "gsearch1.best_params_, gsearch1.best_score_\n"
   ]
  },
  {
   "cell_type": "code",
   "execution_count": 28,
   "metadata": {},
   "outputs": [
    {
     "name": "stderr",
     "output_type": "stream",
     "text": [
      "/Users/guanlxy/opt/anaconda3/lib/python3.8/site-packages/sklearn/model_selection/_search.py:847: FutureWarning: The parameter 'iid' is deprecated in 0.22 and will be removed in 0.24.\n",
      "  warnings.warn(\n"
     ]
    },
    {
     "data": {
      "text/plain": [
       "({'max_depth': 7, 'min_samples_split': 110}, 0.7705971010084746)"
      ]
     },
     "execution_count": 28,
     "metadata": {},
     "output_type": "execute_result"
    }
   ],
   "source": [
    "param_test2 = {'max_depth':range(3,14,2), 'min_samples_split':range(50,201,20)}\n",
    "gsearch2 = GridSearchCV(estimator = RandomForestClassifier(n_estimators= 250, \n",
    "                                  min_samples_leaf=20,max_features='sqrt' ,oob_score=True, random_state=10),\n",
    "   param_grid = param_test2, scoring='roc_auc',iid=False, cv=5)\n",
    "gsearch2.fit(X,y)\n",
    "gsearch2.best_params_, gsearch2.best_score_\n",
    "\n"
   ]
  },
  {
   "cell_type": "code",
   "execution_count": 36,
   "metadata": {},
   "outputs": [
    {
     "name": "stdout",
     "output_type": "stream",
     "text": [
      "0.5747795083505348\n"
     ]
    }
   ],
   "source": [
    "rf1 = RandomForestClassifier(n_estimators= 250, max_depth=7, min_samples_split=110,\n",
    "                                  min_samples_leaf=20,max_features='sqrt' ,oob_score=True, random_state=10)\n",
    "rf1.fit(X,y)\n",
    "print (rf1.oob_score_)"
   ]
  },
  {
   "cell_type": "code",
   "execution_count": 30,
   "metadata": {},
   "outputs": [
    {
     "name": "stderr",
     "output_type": "stream",
     "text": [
      "/Users/guanlxy/opt/anaconda3/lib/python3.8/site-packages/sklearn/model_selection/_search.py:847: FutureWarning: The parameter 'iid' is deprecated in 0.22 and will be removed in 0.24.\n",
      "  warnings.warn(\n"
     ]
    },
    {
     "data": {
      "text/plain": [
       "({'max_features': 9}, 0.5883689167993607)"
      ]
     },
     "execution_count": 30,
     "metadata": {},
     "output_type": "execute_result"
    }
   ],
   "source": [
    "param_test4 = {'max_features':range(3,11,2)}\n",
    "gsearch4 = GridSearchCV(estimator = RandomForestClassifier(n_estimators= 250, max_depth=7, min_samples_split=110,\n",
    "                                  min_samples_leaf=20 ,oob_score=True, random_state=10),\n",
    "   param_grid = param_test4, scoring='roc_auc',iid=False, cv=5)\n",
    "gsearch4.fit(X,y)\n",
    "gsearch4.best_params_, gsearch4.best_score_\n",
    "\n"
   ]
  },
  {
   "cell_type": "code",
   "execution_count": 31,
   "metadata": {},
   "outputs": [
    {
     "name": "stdout",
     "output_type": "stream",
     "text": [
      "0.5637080127603677\n"
     ]
    }
   ],
   "source": [
    "rf2 = RandomForestClassifier(n_estimators= 250, max_depth=7, min_samples_split=110,\n",
    "                                  min_samples_leaf=20,max_features=9 ,oob_score=True, random_state=10)\n",
    "rf2.fit(X,y)\n",
    "print (rf2.oob_score_)"
   ]
  },
  {
   "cell_type": "code",
   "execution_count": 59,
   "metadata": {},
   "outputs": [
    {
     "name": "stdout",
     "output_type": "stream",
     "text": [
      "accuracy: 0.7898423817863398\n",
      "average_precision: 0.6746800373697498\n",
      "precision: 0.8488023952095808\n",
      "recall: 0.5993657505285412\n",
      "f1: 0.7026022304832714\n",
      "AUC Score (Test): 0.7619399754137476\n",
      "AUC Score (Train): 0.999108\n"
     ]
    }
   ],
   "source": [
    "y_pred = rf0.predict(x_test)\n",
    "y_pred1 = rf1.predict(x_test)\n",
    "y_pred2 = rf2.predict(x_test)\n",
    "\n",
    "print(\"accuracy:\", sklearn.metrics.accuracy_score(y_test, y_pred))\n",
    "from sklearn.metrics import average_precision_score,precision_score\n",
    "precision = precision_score(y_test, y_pred)\n",
    "average_precision = average_precision_score(y_test, y_pred)\n",
    "recall = sklearn.metrics.recall_score(y_test, y_pred)\n",
    "f1 = sklearn.metrics.f1_score(y_test, y_pred)\n",
    "\n",
    "roc_auc_score = sklearn.metrics.roc_auc_score(y_test, y_pred)\n",
    "print(\"average_precision:\",average_precision)\n",
    "print(\"precision:\",precision)\n",
    "print(\"recall:\",recall)\n",
    "print(\"f1:\",f1)\n",
    "print(\"AUC Score (Test):\",roc_auc_score)\n",
    "print (\"AUC Score (Train): %f\" % metrics.roc_auc_score(y, y_predprob))"
   ]
  },
  {
   "cell_type": "code",
   "execution_count": 62,
   "metadata": {},
   "outputs": [
    {
     "data": {
      "text/plain": [
       "Text(0.5, 1.0, 'Random Tree: AP=0.67')"
      ]
     },
     "execution_count": 62,
     "metadata": {},
     "output_type": "execute_result"
    },
    {
     "data": {
      "image/png": "[encoded data removed]",
      "text/plain": [
       "<Figure size 432x288 with 1 Axes>"
      ]
     },
     "metadata": {
      "needs_background": "light"
     },
     "output_type": "display_data"
    }
   ],
   "source": [
    "disp = plot_precision_recall_curve(rf0, x_test, y_test)\n",
    "disp.ax_.set_title('Random Tree: '\n",
    "                   'AP={0:0.2f}'.format(average_precision))\n"
   ]
  },
  {
   "cell_type": "code",
   "execution_count": null,
   "metadata": {},
   "outputs": [],
   "source": []
  },
  {
   "cell_type": "code",
   "execution_count": 24,
   "metadata": {},
   "outputs": [],
   "source": [
    "from sklearn.ensemble import RandomForestClassifier"
   ]
  },
  {
   "cell_type": "code",
   "execution_count": 25,
   "metadata": {},
   "outputs": [],
   "source": [
    "rf_clf = RandomForestClassifier(n_jobs=2, random_state=0).fit(x_train, y_train)"
   ]
  },
  {
   "cell_type": "code",
   "execution_count": 26,
   "metadata": {},
   "outputs": [
    {
     "name": "stdout",
     "output_type": "stream",
     "text": [
      "Precision: 0.88\n",
      "Recall: 0.59\n",
      "F1: 0.71\n",
      "Average Precision: 0.69\n"
     ]
    }
   ],
   "source": [
    "y_pred = rf_clf.predict(x_test)\n",
    "\n",
    "print(\"Precision:\", round(precision_score(y_test, y_pred, average='binary'),2))\n",
    "print(\"Recall:\", round(recall_score(y_test, y_pred, average='binary'),2))\n",
    "print(\"F1:\", round(f1_score(y_test, y_pred, average='binary'),2))\n",
    "print(\"Average Precision:\", round(average_precision_score(y_test, y_pred),2))"
   ]
  },
  {
   "cell_type": "markdown",
   "metadata": {},
   "source": [
    "### MLP Neural Net Classifier"
   ]
  },
  {
   "cell_type": "code",
   "execution_count": 27,
   "metadata": {},
   "outputs": [],
   "source": [
    "from sklearn.neural_network import MLPClassifier"
   ]
  },
  {
   "cell_type": "code",
   "execution_count": 28,
   "metadata": {},
   "outputs": [],
   "source": [
    "mlp_clf = MLPClassifier(random_state=0, max_iter=300).fit(x_train, y_train)"
   ]
  },
  {
   "cell_type": "code",
   "execution_count": 29,
   "metadata": {},
   "outputs": [
    {
     "name": "stdout",
     "output_type": "stream",
     "text": [
      "Precision: 0.73\n",
      "Recall: 0.72\n",
      "F1: 0.73\n",
      "Average Precision: 0.65\n"
     ]
    }
   ],
   "source": [
    "y_pred = mlp_clf.predict(x_test)\n",
    "\n",
    "print(\"Precision:\", round(precision_score(y_test, y_pred, average='binary'),2))\n",
    "print(\"Recall:\", round(recall_score(y_test, y_pred, average='binary'),2))\n",
    "print(\"F1:\", round(f1_score(y_test, y_pred, average='binary'),2))\n",
    "print(\"Average Precision:\", round(average_precision_score(y_test, y_pred),2))"
   ]
  },
  {
   "cell_type": "code",
   "execution_count": null,
   "metadata": {},
   "outputs": [],
   "source": []
  }
 ],
 "metadata": {
  "kernelspec": {
   "display_name": "Python 3",
   "language": "python",
   "name": "python3"
  },
  "language_info": {
   "codemirror_mode": {
    "name": "ipython",
    "version": 3
   },
   "file_extension": ".py",
   "mimetype": "text/x-python",
   "name": "python",
   "nbconvert_exporter": "python",
   "pygments_lexer": "ipython3",
   "version": "3.8.3"
  }
 },
 "nbformat": 4,
 "nbformat_minor": 4
}
