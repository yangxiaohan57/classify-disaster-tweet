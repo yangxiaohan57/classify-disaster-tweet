{
 "cells": [
  {
   "cell_type": "markdown",
   "metadata": {},
   "source": [
    "## Final project\n",
    "\n",
    "Data Cleaning:\n",
    "- Clean encoding (ÛÏ)\n",
    "- Translate slang to words\n",
    "- Potentially generalize emojis, links, hashtags to something like -emoji- or -link-"
   ]
  },
  {
   "cell_type": "code",
   "execution_count": 2,
   "metadata": {},
   "outputs": [],
   "source": [
    "import pandas as pd\n",
    "import numpy as np\n",
    "import matplotlib.pyplot as plt\n",
    "from nltk.corpus import stopwords\n",
    "import glob\n",
    "import os\n",
    "from pathlib import Path\n",
    "import re\n",
    "import plotly.express as px\n",
    "from collections import Counter\n",
    "pd.set_option('display.max_colwidth', 1000)\n",
    "import nltk\n",
    "import gensim"
   ]
  },
  {
   "cell_type": "markdown",
   "metadata": {},
   "source": [
    "### Loading Data"
   ]
  },
  {
   "cell_type": "code",
   "execution_count": 3,
   "metadata": {},
   "outputs": [],
   "source": [
    "repo = Path(os.getcwd())\n",
    "data_path = repo / '..' / 'data'"
   ]
  },
  {
   "cell_type": "code",
   "execution_count": 4,
   "metadata": {},
   "outputs": [],
   "source": [
    "df = pd.read_csv(data_path / '01_raw' / 'train.csv')"
   ]
  },
  {
   "cell_type": "markdown",
   "metadata": {},
   "source": [
    "### Feature Engineering"
   ]
  },
  {
   "cell_type": "code",
   "execution_count": 5,
   "metadata": {},
   "outputs": [],
   "source": [
    "# mention features\n",
    "df['mentions'] = df['text'].apply(lambda x: re.findall(r'@([A-Za-z0-9_]+)', x))\n",
    "df['mentions_cnt'] = df['text'].apply(lambda x: re.findall(r'@([A-Za-z0-9_]+)', x)).str.len()\n",
    "df['mentions_bool'] = np.where(df['mentions_cnt'] >= 1, 1, 0)"
   ]
  },
  {
   "cell_type": "code",
   "execution_count": 6,
   "metadata": {},
   "outputs": [],
   "source": [
    "# hashtag features\n",
    "df['hashtags'] = df['text'].apply(lambda x: re.findall(r'#([A-Za-z0-9_]+)', x))\n",
    "df['hashtags_cnt'] = df['text'].apply(lambda x: re.findall(r'#([A-Za-z0-9_]+)', x)).str.len()\n",
    "df['hashtags_bool'] = np.where(df['hashtags_cnt'] >= 1, 1, 0)"
   ]
  },
  {
   "cell_type": "code",
   "execution_count": 7,
   "metadata": {},
   "outputs": [],
   "source": [
    "# link features \n",
    "df['links'] = df['text'].apply(lambda x: re.findall(r'http:\\/\\/t.co\\/[a-zA-Z0-9\\-\\.]{8}', x))\n",
    "df['links_cnt'] = df['text'].apply(lambda x: re.findall(r'http:\\/\\/t.co\\/[a-zA-Z0-9\\-\\.]{8}', x)).str.len()\n",
    "df['links_bool'] = np.where(df['links_cnt'] >= 1, 1, 0)"
   ]
  },
  {
   "cell_type": "code",
   "execution_count": 8,
   "metadata": {},
   "outputs": [],
   "source": [
    "# percentage of characters in tweet that are lower case, upper case, title case( first letter upper, rest lower) \n",
    "df['uprchar_pct'] = df['text'].str.count(r'[A-Z]') / df['text'].str.len()\n",
    "df['lwrchar_pct'] = df['text'].str.count(r'[a-z]') / df['text'].str.len()"
   ]
  },
  {
   "cell_type": "code",
   "execution_count": 9,
   "metadata": {},
   "outputs": [],
   "source": [
    "def low_pct(x):\n",
    "    tweet = x.split()\n",
    "    lower_cases = [word for word in tweet if word.islower()]\n",
    "    return len(lower_cases) / len(tweet)\n",
    "\n",
    "def up_pct(x):\n",
    "    tweet = x.split()\n",
    "    upper_cases = [word for word in tweet if word.isupper()]\n",
    "    return len(upper_cases) / len(tweet)\n",
    "\n",
    "def title_pct(x):\n",
    "    tweet = x.split()\n",
    "    title_cases = [word for word in tweet if word.istitle()]\n",
    "    return len(title_cases) / len(tweet)"
   ]
  },
  {
   "cell_type": "code",
   "execution_count": 10,
   "metadata": {},
   "outputs": [],
   "source": [
    "# percentage of words in tweet that are lower case, upper case, title case( first letter upper, rest lower) \n",
    "df['lwrcase_pct'] = df['text'].apply(lambda x: low_pct(x))\n",
    "df['upprcase_pct'] = df['text'].apply(lambda x: up_pct(x))\n",
    "df['titlecase_pct'] = df['text'].apply(lambda x: title_pct(x))"
   ]
  },
  {
   "cell_type": "code",
   "execution_count": 11,
   "metadata": {},
   "outputs": [
    {
     "data": {
      "text/html": [
       "<div>\n",
       "<style scoped>\n",
       "    .dataframe tbody tr th:only-of-type {\n",
       "        vertical-align: middle;\n",
       "    }\n",
       "\n",
       "    .dataframe tbody tr th {\n",
       "        vertical-align: top;\n",
       "    }\n",
       "\n",
       "    .dataframe thead th {\n",
       "        text-align: right;\n",
       "    }\n",
       "</style>\n",
       "<table border=\"1\" class=\"dataframe\">\n",
       "  <thead>\n",
       "    <tr style=\"text-align: right;\">\n",
       "      <th></th>\n",
       "      <th>id</th>\n",
       "      <th>keyword</th>\n",
       "      <th>location</th>\n",
       "      <th>text</th>\n",
       "      <th>target</th>\n",
       "      <th>mentions</th>\n",
       "      <th>mentions_cnt</th>\n",
       "      <th>mentions_bool</th>\n",
       "      <th>hashtags</th>\n",
       "      <th>hashtags_cnt</th>\n",
       "      <th>hashtags_bool</th>\n",
       "      <th>links</th>\n",
       "      <th>links_cnt</th>\n",
       "      <th>links_bool</th>\n",
       "      <th>uprchar_pct</th>\n",
       "      <th>lwrchar_pct</th>\n",
       "      <th>lwrcase_pct</th>\n",
       "      <th>upprcase_pct</th>\n",
       "      <th>titlecase_pct</th>\n",
       "    </tr>\n",
       "  </thead>\n",
       "  <tbody>\n",
       "    <tr>\n",
       "      <th>6688</th>\n",
       "      <td>9582</td>\n",
       "      <td>thunder</td>\n",
       "      <td>NaN</td>\n",
       "      <td>Thunder lightening torrential rain and a power cut!</td>\n",
       "      <td>1</td>\n",
       "      <td>[]</td>\n",
       "      <td>0</td>\n",
       "      <td>0</td>\n",
       "      <td>[]</td>\n",
       "      <td>0</td>\n",
       "      <td>0</td>\n",
       "      <td>[]</td>\n",
       "      <td>0</td>\n",
       "      <td>0</td>\n",
       "      <td>0.019608</td>\n",
       "      <td>0.823529</td>\n",
       "      <td>0.875</td>\n",
       "      <td>0.0</td>\n",
       "      <td>0.125</td>\n",
       "    </tr>\n",
       "  </tbody>\n",
       "</table>\n",
       "</div>"
      ],
      "text/plain": [
       "        id  keyword location  \\\n",
       "6688  9582  thunder      NaN   \n",
       "\n",
       "                                                     text  target mentions  \\\n",
       "6688  Thunder lightening torrential rain and a power cut!       1       []   \n",
       "\n",
       "      mentions_cnt  mentions_bool hashtags  hashtags_cnt  hashtags_bool links  \\\n",
       "6688             0              0       []             0              0    []   \n",
       "\n",
       "      links_cnt  links_bool  uprchar_pct  lwrchar_pct  lwrcase_pct  \\\n",
       "6688          0           0     0.019608     0.823529        0.875   \n",
       "\n",
       "      upprcase_pct  titlecase_pct  \n",
       "6688           0.0          0.125  "
      ]
     },
     "execution_count": 11,
     "metadata": {},
     "output_type": "execute_result"
    }
   ],
   "source": [
    "df.sample(1)"
   ]
  },
  {
   "cell_type": "markdown",
   "metadata": {},
   "source": [
    "### Data Cleaning"
   ]
  },
  {
   "cell_type": "code",
   "execution_count": 12,
   "metadata": {},
   "outputs": [],
   "source": [
    "stopwords = nltk.corpus.stopwords.words('english')\n",
    "newStopWords = [',','(',')','?','[',']','$','.',':',\"'s\",'of','the',\n",
    "                '!','\"','\"','/']\n",
    "stopwords.extend(newStopWords)\n",
    "stopwords = list(stopwords)"
   ]
  },
  {
   "cell_type": "code",
   "execution_count": 19,
   "metadata": {},
   "outputs": [],
   "source": [
    "tweet_col = []\n",
    "for tweet in list(df.text):\n",
    "    tweet = re.sub(r'@([A-Za-z0-9_]+)', '__mention__ ', tweet)\n",
    "    tweet = re.sub(r'#([A-Za-z0-9_]+)', '__hashtag__ ', tweet)\n",
    "    tweet = re.sub(r'https?://[^\\s<>\"]+|www\\.[^\\s<>\"]+', '__link__ ',tweet)\n",
    "    tweet = list(gensim.utils.tokenize(tweet))\n",
    "    tweet = [word.lower() for word in tweet if word.lower() not in stopwords]\n",
    "    tweet = ' '.join(tweet)\n",
    "    tweet_col.append(tweet)\n",
    "df['tweet'] = tweet_col"
   ]
  },
  {
   "cell_type": "code",
   "execution_count": 20,
   "metadata": {},
   "outputs": [
    {
     "data": {
      "text/html": [
       "<div>\n",
       "<style scoped>\n",
       "    .dataframe tbody tr th:only-of-type {\n",
       "        vertical-align: middle;\n",
       "    }\n",
       "\n",
       "    .dataframe tbody tr th {\n",
       "        vertical-align: top;\n",
       "    }\n",
       "\n",
       "    .dataframe thead th {\n",
       "        text-align: right;\n",
       "    }\n",
       "</style>\n",
       "<table border=\"1\" class=\"dataframe\">\n",
       "  <thead>\n",
       "    <tr style=\"text-align: right;\">\n",
       "      <th></th>\n",
       "      <th>id</th>\n",
       "      <th>keyword</th>\n",
       "      <th>location</th>\n",
       "      <th>text</th>\n",
       "      <th>target</th>\n",
       "      <th>mentions</th>\n",
       "      <th>mentions_cnt</th>\n",
       "      <th>mentions_bool</th>\n",
       "      <th>hashtags</th>\n",
       "      <th>hashtags_cnt</th>\n",
       "      <th>hashtags_bool</th>\n",
       "      <th>links</th>\n",
       "      <th>links_cnt</th>\n",
       "      <th>links_bool</th>\n",
       "      <th>uprchar_pct</th>\n",
       "      <th>lwrchar_pct</th>\n",
       "      <th>lwrcase_pct</th>\n",
       "      <th>upprcase_pct</th>\n",
       "      <th>titlecase_pct</th>\n",
       "      <th>tweet</th>\n",
       "    </tr>\n",
       "  </thead>\n",
       "  <tbody>\n",
       "    <tr>\n",
       "      <th>0</th>\n",
       "      <td>1</td>\n",
       "      <td>NaN</td>\n",
       "      <td>NaN</td>\n",
       "      <td>Our Deeds are the Reason of this #earthquake May ALLAH Forgive us all</td>\n",
       "      <td>1</td>\n",
       "      <td>[]</td>\n",
       "      <td>0</td>\n",
       "      <td>0</td>\n",
       "      <td>[earthquake]</td>\n",
       "      <td>1</td>\n",
       "      <td>1</td>\n",
       "      <td>[]</td>\n",
       "      <td>0</td>\n",
       "      <td>0</td>\n",
       "      <td>0.144928</td>\n",
       "      <td>0.666667</td>\n",
       "      <td>0.538462</td>\n",
       "      <td>0.076923</td>\n",
       "      <td>0.384615</td>\n",
       "      <td>deeds reason __hashtag__ may allah forgive us</td>\n",
       "    </tr>\n",
       "  </tbody>\n",
       "</table>\n",
       "</div>"
      ],
      "text/plain": [
       "   id keyword location  \\\n",
       "0   1     NaN      NaN   \n",
       "\n",
       "                                                                    text  \\\n",
       "0  Our Deeds are the Reason of this #earthquake May ALLAH Forgive us all   \n",
       "\n",
       "   target mentions  mentions_cnt  mentions_bool      hashtags  hashtags_cnt  \\\n",
       "0       1       []             0              0  [earthquake]             1   \n",
       "\n",
       "   hashtags_bool links  links_cnt  links_bool  uprchar_pct  lwrchar_pct  \\\n",
       "0              1    []          0           0     0.144928     0.666667   \n",
       "\n",
       "   lwrcase_pct  upprcase_pct  titlecase_pct  \\\n",
       "0     0.538462      0.076923       0.384615   \n",
       "\n",
       "                                           tweet  \n",
       "0  deeds reason __hashtag__ may allah forgive us  "
      ]
     },
     "execution_count": 20,
     "metadata": {},
     "output_type": "execute_result"
    }
   ],
   "source": [
    "df.head(1)"
   ]
  },
  {
   "cell_type": "code",
   "execution_count": 21,
   "metadata": {},
   "outputs": [],
   "source": [
    "df.to_csv(data_path / '02_clean' / 'train.csv', index=False)"
   ]
  }
 ],
 "metadata": {
  "kernelspec": {
   "display_name": "Python 3",
   "language": "python",
   "name": "python3"
  },
  "language_info": {
   "codemirror_mode": {
    "name": "ipython",
    "version": 3
   },
   "file_extension": ".py",
   "mimetype": "text/x-python",
   "name": "python",
   "nbconvert_exporter": "python",
   "pygments_lexer": "ipython3",
   "version": "3.7.6"
  }
 },
 "nbformat": 4,
 "nbformat_minor": 4
}
