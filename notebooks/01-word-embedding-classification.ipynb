{
 "cells": [
  {
   "cell_type": "markdown",
   "metadata": {},
   "source": [
    "## Final project\n",
    "\n",
    "text stuff to do: \n",
    "- clean encoding (ÛÏ) \n",
    "- count hashtags, @ signs, urls, punctuation, sentence to punctuation ratio\n",
    "- :pparrot: emojis???\n",
    "- general research to tokenize tweets & try out different tokenizing methods\n",
    "- remove punctuation \n",
    "- use SVD to condense, try PCA\n",
    "- remove stuff to make it look like final project\n",
    "- research to see how we can use location or keywords\n",
    "\n",
    "ask john:\n",
    "- best way to clean encoding\n",
    "- how to add features to model"
   ]
  },
  {
   "cell_type": "code",
   "execution_count": 1,
   "metadata": {},
   "outputs": [],
   "source": [
    "import pandas as pd\n",
    "import matplotlib.pyplot as plt\n",
    "import glob\n",
    "import os\n",
    "from pathlib import Path\n",
    "import spacy"
   ]
  },
  {
   "cell_type": "code",
   "execution_count": 2,
   "metadata": {},
   "outputs": [],
   "source": [
    "repo = Path(os.getcwd())\n",
    "data_path = repo / '..' / 'data'"
   ]
  },
  {
   "cell_type": "code",
   "execution_count": 3,
   "metadata": {},
   "outputs": [],
   "source": [
    "df = pd.read_csv(data_path / '02_clean' / 'train.csv')"
   ]
  },
  {
   "cell_type": "code",
   "execution_count": 4,
   "metadata": {},
   "outputs": [],
   "source": [
    "nlp = spacy.load(\"en_core_web_lg\")"
   ]
  },
  {
   "cell_type": "code",
   "execution_count": null,
   "metadata": {},
   "outputs": [],
   "source": [
    "vector_features = []\n",
    "for tweet in list(df['tweet']):\n",
    "    token_tweet = nlp(tweet)\n",
    "    vector_features.append(token_tweet.vector)"
   ]
  },
  {
   "cell_type": "code",
   "execution_count": null,
   "metadata": {},
   "outputs": [],
   "source": [
    "train = pd.DataFrame(vector_features)"
   ]
  },
  {
   "cell_type": "code",
   "execution_count": null,
   "metadata": {},
   "outputs": [],
   "source": [
    "fe = df[['uprchar_pct', 'lwrchar_pct', 'lwrcase_pct',\n",
    "                          'upprcase_pct', 'titlecase_pct']]\n",
    "kw = pd.get_dummies(df['keyword'], prefix = 'kw')"
   ]
  },
  {
   "cell_type": "code",
   "execution_count": null,
   "metadata": {},
   "outputs": [],
   "source": [
    "train = pd.concat([train,fe,kw],axis=1)"
   ]
  },
  {
   "cell_type": "code",
   "execution_count": null,
   "metadata": {},
   "outputs": [],
   "source": [
    "from sklearn.model_selection import train_test_split\n",
    "\n",
    "X = train\n",
    "y = df[\"target\"]\n",
    "\n",
    "# split into training and test\n",
    "X_train, X_test, y_train, y_test = train_test_split(X, y, test_size = 0.3, random_state = 0)"
   ]
  },
  {
   "cell_type": "code",
   "execution_count": null,
   "metadata": {},
   "outputs": [],
   "source": [
    "x_train = X_train\n",
    "x_test = X_test"
   ]
  },
  {
   "cell_type": "markdown",
   "metadata": {},
   "source": [
    "### Logistic Regression"
   ]
  },
  {
   "cell_type": "code",
   "execution_count": null,
   "metadata": {},
   "outputs": [],
   "source": [
    "from sklearn.linear_model import LogisticRegression\n",
    "\n",
    "tweet_classifier = LogisticRegression(random_state = 0, max_iter=300).fit(x_train, y_train)"
   ]
  },
  {
   "cell_type": "code",
   "execution_count": null,
   "metadata": {},
   "outputs": [],
   "source": [
    "from sklearn.metrics import precision_score\n",
    "from sklearn.metrics import recall_score\n",
    "from sklearn.metrics import f1_score\n",
    "from sklearn.metrics import average_precision_score\n",
    "\n",
    "# precision, recall, f1, and average precision below\n",
    "y_pred = tweet_classifier.predict(x_test)\n",
    "\n",
    "print(\"Precision:\", round(precision_score(y_test, y_pred, average='binary'),2))\n",
    "print(\"Recall:\", round(recall_score(y_test, y_pred, average='binary'),2))\n",
    "print(\"F1:\", round(f1_score(y_test, y_pred, average='binary'),2))\n",
    "print(\"Average Precision:\", round(average_precision_score(y_test, y_pred),2))"
   ]
  },
  {
   "cell_type": "code",
   "execution_count": null,
   "metadata": {},
   "outputs": [],
   "source": [
    "from sklearn.metrics import precision_recall_curve\n",
    "from sklearn.metrics import plot_precision_recall_curve\n",
    "\n",
    "# plot precision-recall curve\n",
    "y_pred_prob = review_classifier.predict_proba(x_test)\n",
    "precision_recall_curve_values = precision_recall_curve(y_test, y_pred_prob[:,1])\n",
    "plot_precision_recall_curve(estimator=review_classifier, X=x_test, y=y_test)"
   ]
  },
  {
   "cell_type": "code",
   "execution_count": null,
   "metadata": {},
   "outputs": [],
   "source": [
    "from sklearn.metrics import roc_curve\n",
    "from sklearn.metrics import auc\n",
    "\n",
    "# plot ROC\n",
    "fpr, tpr, threshold = roc_curve(y_test, y_pred_prob[:,1])\n",
    "roc_auc = auc(fpr, tpr)\n",
    "\n",
    "plt.title('Word Embedding - Logistic Regression ROC Curve')\n",
    "plt.plot(fpr, tpr, 'b', label = 'AUC = %0.2f' % roc_auc)\n",
    "plt.legend(loc = 'lower right')\n",
    "plt.plot([0, 1], [0, 1],'r--')\n",
    "plt.xlim([0, 1])\n",
    "plt.ylim([0, 1])\n",
    "plt.ylabel('True Positive Rate')\n",
    "plt.xlabel('False Positive Rate')\n",
    "plt.show()"
   ]
  },
  {
   "cell_type": "markdown",
   "metadata": {},
   "source": [
    "### Decision Tree Classifier"
   ]
  },
  {
   "cell_type": "code",
   "execution_count": null,
   "metadata": {},
   "outputs": [],
   "source": [
    "from sklearn.tree import DecisionTreeClassifier"
   ]
  },
  {
   "cell_type": "code",
   "execution_count": null,
   "metadata": {},
   "outputs": [],
   "source": [
    "dt_clf = DecisionTreeClassifier(random_state=0).fit(x_train, y_train)"
   ]
  },
  {
   "cell_type": "code",
   "execution_count": null,
   "metadata": {},
   "outputs": [],
   "source": [
    "y_pred = dt_clf.predict(x_test)\n",
    "\n",
    "print(\"Precision:\", round(precision_score(y_test, y_pred, average='binary'),2))\n",
    "print(\"Recall:\", round(recall_score(y_test, y_pred, average='binary'),2))\n",
    "print(\"F1:\", round(f1_score(y_test, y_pred, average='binary'),2))\n",
    "print(\"Average Precision:\", round(average_precision_score(y_test, y_pred),2))"
   ]
  },
  {
   "cell_type": "code",
   "execution_count": null,
   "metadata": {},
   "outputs": [],
   "source": [
    "y_pred_prob = review_classifier.predict_proba(x_test)\n",
    "precision_recall_curve_values = precision_recall_curve(y_test, y_pred_prob[:,1])\n",
    "plot_precision_recall_curve(estimator=review_classifier, X=x_test, y=y_test)\n",
    "fpr, tpr, threshold = roc_curve(y_test, y_pred_prob[:,1])\n",
    "roc_auc = auc(fpr, tpr)\n",
    "\n",
    "plt.title('Word Embedding - Logistic Regression ROC Curve')\n",
    "plt.plot(fpr, tpr, 'b', label = 'AUC = %0.2f' % roc_auc)\n",
    "plt.legend(loc = 'lower right')\n",
    "plt.plot([0, 1], [0, 1],'r--')\n",
    "plt.xlim([0, 1])\n",
    "plt.ylim([0, 1])\n",
    "plt.ylabel('True Positive Rate')\n",
    "plt.xlabel('False Positive Rate')\n",
    "plt.show()"
   ]
  },
  {
   "cell_type": "markdown",
   "metadata": {},
   "source": [
    "### Random Forest Classifier"
   ]
  },
  {
   "cell_type": "code",
   "execution_count": null,
   "metadata": {},
   "outputs": [],
   "source": [
    "from sklearn.ensemble import RandomForestClassifier"
   ]
  },
  {
   "cell_type": "code",
   "execution_count": null,
   "metadata": {},
   "outputs": [],
   "source": [
    "rf_clf = RandomForestClassifier(n_jobs=2, random_state=0).fit(x_train, y_train)"
   ]
  },
  {
   "cell_type": "code",
   "execution_count": null,
   "metadata": {},
   "outputs": [],
   "source": [
    "y_pred = rf_clf.predict(x_test)\n",
    "\n",
    "print(\"Precision:\", round(precision_score(y_test, y_pred, average='binary'),2))\n",
    "print(\"Recall:\", round(recall_score(y_test, y_pred, average='binary'),2))\n",
    "print(\"F1:\", round(f1_score(y_test, y_pred, average='binary'),2))\n",
    "print(\"Average Precision:\", round(average_precision_score(y_test, y_pred),2))"
   ]
  },
  {
   "cell_type": "code",
   "execution_count": null,
   "metadata": {},
   "outputs": [],
   "source": [
    "y_pred_prob = review_classifier.predict_proba(x_test)\n",
    "precision_recall_curve_values = precision_recall_curve(y_test, y_pred_prob[:,1])\n",
    "plot_precision_recall_curve(estimator=review_classifier, X=x_test, y=y_test)\n",
    "fpr, tpr, threshold = roc_curve(y_test, y_pred_prob[:,1])\n",
    "roc_auc = auc(fpr, tpr)\n",
    "\n",
    "plt.title('Word Embedding - Logistic Regression ROC Curve')\n",
    "plt.plot(fpr, tpr, 'b', label = 'AUC = %0.2f' % roc_auc)\n",
    "plt.legend(loc = 'lower right')\n",
    "plt.plot([0, 1], [0, 1],'r--')\n",
    "plt.xlim([0, 1])\n",
    "plt.ylim([0, 1])\n",
    "plt.ylabel('True Positive Rate')\n",
    "plt.xlabel('False Positive Rate')\n",
    "plt.show()"
   ]
  },
  {
   "cell_type": "markdown",
   "metadata": {},
   "source": [
    "### MLP Neural Net Classifier"
   ]
  },
  {
   "cell_type": "code",
   "execution_count": null,
   "metadata": {},
   "outputs": [],
   "source": [
    "from sklearn.neural_network import MLPClassifier"
   ]
  },
  {
   "cell_type": "code",
   "execution_count": null,
   "metadata": {},
   "outputs": [],
   "source": [
    "mlp_clf = MLPClassifier(random_state=0, max_iter=300).fit(x_train, y_train)"
   ]
  },
  {
   "cell_type": "code",
   "execution_count": null,
   "metadata": {},
   "outputs": [],
   "source": [
    "y_pred = mlp_clf.predict(x_test)\n",
    "\n",
    "print(\"Precision:\", round(precision_score(y_test, y_pred, average='binary'),2))\n",
    "print(\"Recall:\", round(recall_score(y_test, y_pred, average='binary'),2))\n",
    "print(\"F1:\", round(f1_score(y_test, y_pred, average='binary'),2))\n",
    "print(\"Average Precision:\", round(average_precision_score(y_test, y_pred),2))"
   ]
  },
  {
   "cell_type": "code",
   "execution_count": null,
   "metadata": {},
   "outputs": [],
   "source": [
    "y_pred_prob = review_classifier.predict_proba(x_test)\n",
    "precision_recall_curve_values = precision_recall_curve(y_test, y_pred_prob[:,1])\n",
    "plot_precision_recall_curve(estimator=review_classifier, X=x_test, y=y_test)\n",
    "fpr, tpr, threshold = roc_curve(y_test, y_pred_prob[:,1])\n",
    "roc_auc = auc(fpr, tpr)\n",
    "\n",
    "plt.title('Word Embedding - Logistic Regression ROC Curve')\n",
    "plt.plot(fpr, tpr, 'b', label = 'AUC = %0.2f' % roc_auc)\n",
    "plt.legend(loc = 'lower right')\n",
    "plt.plot([0, 1], [0, 1],'r--')\n",
    "plt.xlim([0, 1])\n",
    "plt.ylim([0, 1])\n",
    "plt.ylabel('True Positive Rate')\n",
    "plt.xlabel('False Positive Rate')\n",
    "plt.show()"
   ]
  }
 ],
 "metadata": {
  "kernelspec": {
   "display_name": "Python 3",
   "language": "python",
   "name": "python3"
  },
  "language_info": {
   "codemirror_mode": {
    "name": "ipython",
    "version": 3
   },
   "file_extension": ".py",
   "mimetype": "text/x-python",
   "name": "python",
   "nbconvert_exporter": "python",
   "pygments_lexer": "ipython3",
   "version": "3.7.7"
  }
 },
 "nbformat": 4,
 "nbformat_minor": 4
}
